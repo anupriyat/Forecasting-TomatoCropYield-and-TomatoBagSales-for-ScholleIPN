{
 "cells": [
  {
   "cell_type": "code",
   "execution_count": 0,
   "metadata": {
    "colab": {},
    "colab_type": "code",
    "id": "iRM9RTjkeN_s"
   },
   "outputs": [],
   "source": [
    "import pandas as pd\n",
    "import numpy as np\n",
    "import os \n",
    "from datetime import datetime\n",
    "import seaborn as sbn\n",
    "import matplotlib.pyplot as plt\n",
    "%matplotlib inline\n",
    "import plotly\n",
    "import statsmodels.api as sm\n",
    "from io import StringIO\n",
    "import requests\n",
    "import datetime\n",
    "from statsmodels.stats.outliers_influence import variance_inflation_factor"
   ]
  },
  {
   "cell_type": "code",
   "execution_count": 0,
   "metadata": {
    "colab": {},
    "colab_type": "code",
    "id": "3O3pyclIeN_x"
   },
   "outputs": [],
   "source": [
    "# Change directory\n",
    "os.chdir('/Users/alisa.babikova/Downloads')"
   ]
  },
  {
   "cell_type": "markdown",
   "metadata": {
    "colab_type": "text",
    "id": "53ZtUYKfeN_2"
   },
   "source": [
    "## Upload Datasets for 2016 and 2017"
   ]
  },
  {
   "cell_type": "code",
   "execution_count": 0,
   "metadata": {
    "colab": {},
    "colab_type": "code",
    "id": "UV44zi4YeN_3",
    "outputId": "259ae5b4-d17c-4ede-f860-cc20fff548d8"
   },
   "outputs": [
    {
     "data": {
      "text/html": [
       "<div>\n",
       "<style scoped>\n",
       "    .dataframe tbody tr th:only-of-type {\n",
       "        vertical-align: middle;\n",
       "    }\n",
       "\n",
       "    .dataframe tbody tr th {\n",
       "        vertical-align: top;\n",
       "    }\n",
       "\n",
       "    .dataframe thead th {\n",
       "        text-align: right;\n",
       "    }\n",
       "</style>\n",
       "<table border=\"1\" class=\"dataframe\">\n",
       "  <thead>\n",
       "    <tr style=\"text-align: right;\">\n",
       "      <th></th>\n",
       "      <th>Year</th>\n",
       "      <th>County</th>\n",
       "      <th>Avg_Temp</th>\n",
       "      <th>Avg_DewPoint</th>\n",
       "      <th>Avg_PrInt</th>\n",
       "      <th>Avg_PrProb</th>\n",
       "      <th>Avg_Pressure</th>\n",
       "      <th>Avg_Sunlight</th>\n",
       "      <th>Min_Temp</th>\n",
       "      <th>Min_DewPoint</th>\n",
       "      <th>...</th>\n",
       "      <th>Min_Sunlight</th>\n",
       "      <th>Max_Temp</th>\n",
       "      <th>Max_DewPoint</th>\n",
       "      <th>Max_PrInt</th>\n",
       "      <th>Max_PrProb</th>\n",
       "      <th>Max_Pressure</th>\n",
       "      <th>Max_Sunlight</th>\n",
       "      <th>Yield 2016</th>\n",
       "      <th>Yield 2015</th>\n",
       "      <th>NDVI</th>\n",
       "    </tr>\n",
       "  </thead>\n",
       "  <tbody>\n",
       "    <tr>\n",
       "      <th>0</th>\n",
       "      <td>2016</td>\n",
       "      <td>Fresno</td>\n",
       "      <td>65.767168</td>\n",
       "      <td>47.040129</td>\n",
       "      <td>0.001532</td>\n",
       "      <td>0.029722</td>\n",
       "      <td>1015.798488</td>\n",
       "      <td>1.844383</td>\n",
       "      <td>41.815417</td>\n",
       "      <td>33.372083</td>\n",
       "      <td>...</td>\n",
       "      <td>0.541667</td>\n",
       "      <td>90.696667</td>\n",
       "      <td>55.725417</td>\n",
       "      <td>0.043450</td>\n",
       "      <td>0.588750</td>\n",
       "      <td>1030.474167</td>\n",
       "      <td>2.958333</td>\n",
       "      <td>50.03</td>\n",
       "      <td>50.89</td>\n",
       "      <td>0.46</td>\n",
       "    </tr>\n",
       "    <tr>\n",
       "      <th>1</th>\n",
       "      <td>2016</td>\n",
       "      <td>Kern</td>\n",
       "      <td>65.262735</td>\n",
       "      <td>41.647347</td>\n",
       "      <td>0.000986</td>\n",
       "      <td>0.023907</td>\n",
       "      <td>1015.444901</td>\n",
       "      <td>2.026358</td>\n",
       "      <td>39.931667</td>\n",
       "      <td>27.670417</td>\n",
       "      <td>...</td>\n",
       "      <td>0.625000</td>\n",
       "      <td>90.446250</td>\n",
       "      <td>53.150417</td>\n",
       "      <td>0.020871</td>\n",
       "      <td>0.422500</td>\n",
       "      <td>1029.892500</td>\n",
       "      <td>3.130435</td>\n",
       "      <td>46.40</td>\n",
       "      <td>45.66</td>\n",
       "      <td>0.54</td>\n",
       "    </tr>\n",
       "    <tr>\n",
       "      <th>2</th>\n",
       "      <td>2016</td>\n",
       "      <td>Kings</td>\n",
       "      <td>66.622236</td>\n",
       "      <td>45.098102</td>\n",
       "      <td>0.000272</td>\n",
       "      <td>0.013307</td>\n",
       "      <td>1016.091034</td>\n",
       "      <td>1.903710</td>\n",
       "      <td>41.900000</td>\n",
       "      <td>30.452083</td>\n",
       "      <td>...</td>\n",
       "      <td>0.583333</td>\n",
       "      <td>90.749167</td>\n",
       "      <td>56.678750</td>\n",
       "      <td>0.009479</td>\n",
       "      <td>0.387083</td>\n",
       "      <td>1030.874170</td>\n",
       "      <td>2.916667</td>\n",
       "      <td>54.74</td>\n",
       "      <td>50.79</td>\n",
       "      <td>0.50</td>\n",
       "    </tr>\n",
       "    <tr>\n",
       "      <th>3</th>\n",
       "      <td>2016</td>\n",
       "      <td>Merced</td>\n",
       "      <td>64.238756</td>\n",
       "      <td>48.160975</td>\n",
       "      <td>0.001386</td>\n",
       "      <td>0.029386</td>\n",
       "      <td>1015.685524</td>\n",
       "      <td>1.934951</td>\n",
       "      <td>42.762917</td>\n",
       "      <td>28.665000</td>\n",
       "      <td>...</td>\n",
       "      <td>0.541667</td>\n",
       "      <td>87.379167</td>\n",
       "      <td>58.118333</td>\n",
       "      <td>0.041350</td>\n",
       "      <td>0.697500</td>\n",
       "      <td>1030.223750</td>\n",
       "      <td>2.916667</td>\n",
       "      <td>47.74</td>\n",
       "      <td>48.61</td>\n",
       "      <td>0.54</td>\n",
       "    </tr>\n",
       "    <tr>\n",
       "      <th>4</th>\n",
       "      <td>2016</td>\n",
       "      <td>Stanislaus</td>\n",
       "      <td>64.766756</td>\n",
       "      <td>48.639886</td>\n",
       "      <td>0.001494</td>\n",
       "      <td>0.035733</td>\n",
       "      <td>1015.830667</td>\n",
       "      <td>1.933643</td>\n",
       "      <td>43.950417</td>\n",
       "      <td>28.714167</td>\n",
       "      <td>...</td>\n",
       "      <td>0.458333</td>\n",
       "      <td>86.929167</td>\n",
       "      <td>58.341667</td>\n",
       "      <td>0.041283</td>\n",
       "      <td>0.860417</td>\n",
       "      <td>1030.282917</td>\n",
       "      <td>2.916667</td>\n",
       "      <td>39.80</td>\n",
       "      <td>43.05</td>\n",
       "      <td>0.62</td>\n",
       "    </tr>\n",
       "    <tr>\n",
       "      <th>5</th>\n",
       "      <td>2016</td>\n",
       "      <td>San Joaquin</td>\n",
       "      <td>64.237743</td>\n",
       "      <td>48.749512</td>\n",
       "      <td>0.001463</td>\n",
       "      <td>0.039743</td>\n",
       "      <td>1015.861660</td>\n",
       "      <td>1.930704</td>\n",
       "      <td>44.765833</td>\n",
       "      <td>28.850833</td>\n",
       "      <td>...</td>\n",
       "      <td>0.458333</td>\n",
       "      <td>86.657083</td>\n",
       "      <td>58.316250</td>\n",
       "      <td>0.041167</td>\n",
       "      <td>0.882500</td>\n",
       "      <td>1030.190830</td>\n",
       "      <td>3.086957</td>\n",
       "      <td>45.83</td>\n",
       "      <td>42.29</td>\n",
       "      <td>0.59</td>\n",
       "    </tr>\n",
       "    <tr>\n",
       "      <th>6</th>\n",
       "      <td>2016</td>\n",
       "      <td>Solano</td>\n",
       "      <td>61.582609</td>\n",
       "      <td>47.961356</td>\n",
       "      <td>0.001894</td>\n",
       "      <td>0.044867</td>\n",
       "      <td>1016.023873</td>\n",
       "      <td>1.878587</td>\n",
       "      <td>44.892500</td>\n",
       "      <td>28.545000</td>\n",
       "      <td>...</td>\n",
       "      <td>0.458333</td>\n",
       "      <td>80.593750</td>\n",
       "      <td>57.315833</td>\n",
       "      <td>0.053017</td>\n",
       "      <td>0.702917</td>\n",
       "      <td>1030.215000</td>\n",
       "      <td>2.958333</td>\n",
       "      <td>46.43</td>\n",
       "      <td>44.73</td>\n",
       "      <td>0.54</td>\n",
       "    </tr>\n",
       "    <tr>\n",
       "      <th>7</th>\n",
       "      <td>2016</td>\n",
       "      <td>Yolo</td>\n",
       "      <td>63.218358</td>\n",
       "      <td>47.457014</td>\n",
       "      <td>0.001843</td>\n",
       "      <td>0.044927</td>\n",
       "      <td>1015.844188</td>\n",
       "      <td>1.877208</td>\n",
       "      <td>43.168333</td>\n",
       "      <td>26.532083</td>\n",
       "      <td>...</td>\n",
       "      <td>0.458333</td>\n",
       "      <td>85.505000</td>\n",
       "      <td>57.015833</td>\n",
       "      <td>0.067687</td>\n",
       "      <td>0.807083</td>\n",
       "      <td>1030.608333</td>\n",
       "      <td>2.958333</td>\n",
       "      <td>46.90</td>\n",
       "      <td>48.62</td>\n",
       "      <td>0.51</td>\n",
       "    </tr>\n",
       "  </tbody>\n",
       "</table>\n",
       "<p>8 rows × 21 columns</p>\n",
       "</div>"
      ],
      "text/plain": [
       "   Year       County   Avg_Temp  Avg_DewPoint  Avg_PrInt  Avg_PrProb  \\\n",
       "0  2016       Fresno  65.767168     47.040129   0.001532    0.029722   \n",
       "1  2016         Kern  65.262735     41.647347   0.000986    0.023907   \n",
       "2  2016        Kings  66.622236     45.098102   0.000272    0.013307   \n",
       "3  2016       Merced  64.238756     48.160975   0.001386    0.029386   \n",
       "4  2016   Stanislaus  64.766756     48.639886   0.001494    0.035733   \n",
       "5  2016  San Joaquin  64.237743     48.749512   0.001463    0.039743   \n",
       "6  2016       Solano  61.582609     47.961356   0.001894    0.044867   \n",
       "7  2016         Yolo  63.218358     47.457014   0.001843    0.044927   \n",
       "\n",
       "   Avg_Pressure  Avg_Sunlight   Min_Temp  Min_DewPoint  ...   Min_Sunlight  \\\n",
       "0   1015.798488      1.844383  41.815417     33.372083  ...       0.541667   \n",
       "1   1015.444901      2.026358  39.931667     27.670417  ...       0.625000   \n",
       "2   1016.091034      1.903710  41.900000     30.452083  ...       0.583333   \n",
       "3   1015.685524      1.934951  42.762917     28.665000  ...       0.541667   \n",
       "4   1015.830667      1.933643  43.950417     28.714167  ...       0.458333   \n",
       "5   1015.861660      1.930704  44.765833     28.850833  ...       0.458333   \n",
       "6   1016.023873      1.878587  44.892500     28.545000  ...       0.458333   \n",
       "7   1015.844188      1.877208  43.168333     26.532083  ...       0.458333   \n",
       "\n",
       "    Max_Temp  Max_DewPoint  Max_PrInt  Max_PrProb  Max_Pressure  Max_Sunlight  \\\n",
       "0  90.696667     55.725417   0.043450    0.588750   1030.474167      2.958333   \n",
       "1  90.446250     53.150417   0.020871    0.422500   1029.892500      3.130435   \n",
       "2  90.749167     56.678750   0.009479    0.387083   1030.874170      2.916667   \n",
       "3  87.379167     58.118333   0.041350    0.697500   1030.223750      2.916667   \n",
       "4  86.929167     58.341667   0.041283    0.860417   1030.282917      2.916667   \n",
       "5  86.657083     58.316250   0.041167    0.882500   1030.190830      3.086957   \n",
       "6  80.593750     57.315833   0.053017    0.702917   1030.215000      2.958333   \n",
       "7  85.505000     57.015833   0.067687    0.807083   1030.608333      2.958333   \n",
       "\n",
       "   Yield 2016  Yield 2015  NDVI  \n",
       "0       50.03       50.89  0.46  \n",
       "1       46.40       45.66  0.54  \n",
       "2       54.74       50.79  0.50  \n",
       "3       47.74       48.61  0.54  \n",
       "4       39.80       43.05  0.62  \n",
       "5       45.83       42.29  0.59  \n",
       "6       46.43       44.73  0.54  \n",
       "7       46.90       48.62  0.51  \n",
       "\n",
       "[8 rows x 21 columns]"
      ]
     },
     "execution_count": 449,
     "metadata": {
      "tags": []
     },
     "output_type": "execute_result"
    }
   ],
   "source": [
    "filename = 'weather_ndvi_2016feb_jun.csv'\n",
    "weather_ndvi_2016 = pd.read_csv(filename)\n",
    "weather_ndvi_2016 = weather_ndvi_2016.drop(['Unnamed: 0'], axis = 1)\n",
    "weather_ndvi_2016"
   ]
  },
  {
   "cell_type": "code",
   "execution_count": 0,
   "metadata": {
    "colab": {},
    "colab_type": "code",
    "id": "nQB1XJ5BeN_7",
    "outputId": "b6871903-a489-48db-ccdd-55b97a8b5f82"
   },
   "outputs": [
    {
     "data": {
      "text/html": [
       "<div>\n",
       "<style scoped>\n",
       "    .dataframe tbody tr th:only-of-type {\n",
       "        vertical-align: middle;\n",
       "    }\n",
       "\n",
       "    .dataframe tbody tr th {\n",
       "        vertical-align: top;\n",
       "    }\n",
       "\n",
       "    .dataframe thead th {\n",
       "        text-align: right;\n",
       "    }\n",
       "</style>\n",
       "<table border=\"1\" class=\"dataframe\">\n",
       "  <thead>\n",
       "    <tr style=\"text-align: right;\">\n",
       "      <th></th>\n",
       "      <th>Year</th>\n",
       "      <th>County</th>\n",
       "      <th>Avg_Temp</th>\n",
       "      <th>Avg_DewPoint</th>\n",
       "      <th>Avg_PrInt</th>\n",
       "      <th>Avg_PrProb</th>\n",
       "      <th>Avg_Pressure</th>\n",
       "      <th>Avg_Sunlight</th>\n",
       "      <th>Min_Temp</th>\n",
       "      <th>Min_DewPoint</th>\n",
       "      <th>...</th>\n",
       "      <th>Min_Sunlight</th>\n",
       "      <th>Max_Temp</th>\n",
       "      <th>Max_DewPoint</th>\n",
       "      <th>Max_PrInt</th>\n",
       "      <th>Max_PrProb</th>\n",
       "      <th>Max_Pressure</th>\n",
       "      <th>Max_Sunlight</th>\n",
       "      <th>Yield 2017</th>\n",
       "      <th>Yield 2016</th>\n",
       "      <th>NDVI</th>\n",
       "    </tr>\n",
       "  </thead>\n",
       "  <tbody>\n",
       "    <tr>\n",
       "      <th>0</th>\n",
       "      <td>2017</td>\n",
       "      <td>Fresno</td>\n",
       "      <td>65.327309</td>\n",
       "      <td>48.034968</td>\n",
       "      <td>0.002100</td>\n",
       "      <td>0.052753</td>\n",
       "      <td>1015.201555</td>\n",
       "      <td>1.940978</td>\n",
       "      <td>44.238333</td>\n",
       "      <td>31.590000</td>\n",
       "      <td>...</td>\n",
       "      <td>0.541667</td>\n",
       "      <td>93.727917</td>\n",
       "      <td>64.295417</td>\n",
       "      <td>0.037008</td>\n",
       "      <td>0.752500</td>\n",
       "      <td>1028.307917</td>\n",
       "      <td>2.958333</td>\n",
       "      <td>50.39</td>\n",
       "      <td>50.03</td>\n",
       "      <td>0.51</td>\n",
       "    </tr>\n",
       "    <tr>\n",
       "      <th>1</th>\n",
       "      <td>2017</td>\n",
       "      <td>Kern</td>\n",
       "      <td>64.821293</td>\n",
       "      <td>42.755234</td>\n",
       "      <td>0.001121</td>\n",
       "      <td>0.031092</td>\n",
       "      <td>1014.815217</td>\n",
       "      <td>2.027790</td>\n",
       "      <td>42.553750</td>\n",
       "      <td>26.171250</td>\n",
       "      <td>...</td>\n",
       "      <td>0.583333</td>\n",
       "      <td>92.625833</td>\n",
       "      <td>59.350833</td>\n",
       "      <td>0.045875</td>\n",
       "      <td>0.618750</td>\n",
       "      <td>1027.843480</td>\n",
       "      <td>3.130435</td>\n",
       "      <td>51.33</td>\n",
       "      <td>46.40</td>\n",
       "      <td>0.54</td>\n",
       "    </tr>\n",
       "    <tr>\n",
       "      <th>2</th>\n",
       "      <td>2017</td>\n",
       "      <td>Kings</td>\n",
       "      <td>65.551485</td>\n",
       "      <td>46.671882</td>\n",
       "      <td>0.000643</td>\n",
       "      <td>0.029653</td>\n",
       "      <td>1015.550237</td>\n",
       "      <td>1.902633</td>\n",
       "      <td>43.273333</td>\n",
       "      <td>31.081250</td>\n",
       "      <td>...</td>\n",
       "      <td>0.583333</td>\n",
       "      <td>94.075417</td>\n",
       "      <td>63.684167</td>\n",
       "      <td>0.021150</td>\n",
       "      <td>0.643333</td>\n",
       "      <td>1028.684170</td>\n",
       "      <td>2.958333</td>\n",
       "      <td>51.88</td>\n",
       "      <td>54.74</td>\n",
       "      <td>0.44</td>\n",
       "    </tr>\n",
       "    <tr>\n",
       "      <th>3</th>\n",
       "      <td>2017</td>\n",
       "      <td>Merced</td>\n",
       "      <td>63.612000</td>\n",
       "      <td>48.426559</td>\n",
       "      <td>0.001446</td>\n",
       "      <td>0.042408</td>\n",
       "      <td>1015.036675</td>\n",
       "      <td>1.912042</td>\n",
       "      <td>44.727917</td>\n",
       "      <td>33.768750</td>\n",
       "      <td>...</td>\n",
       "      <td>0.565217</td>\n",
       "      <td>91.159167</td>\n",
       "      <td>63.177917</td>\n",
       "      <td>0.024192</td>\n",
       "      <td>0.540833</td>\n",
       "      <td>1028.159583</td>\n",
       "      <td>3.000000</td>\n",
       "      <td>47.95</td>\n",
       "      <td>47.74</td>\n",
       "      <td>0.65</td>\n",
       "    </tr>\n",
       "    <tr>\n",
       "      <th>4</th>\n",
       "      <td>2017</td>\n",
       "      <td>Stanislaus</td>\n",
       "      <td>63.679627</td>\n",
       "      <td>48.361004</td>\n",
       "      <td>0.001714</td>\n",
       "      <td>0.050903</td>\n",
       "      <td>1015.146197</td>\n",
       "      <td>1.886171</td>\n",
       "      <td>44.962917</td>\n",
       "      <td>33.546667</td>\n",
       "      <td>...</td>\n",
       "      <td>0.500000</td>\n",
       "      <td>91.449583</td>\n",
       "      <td>63.145833</td>\n",
       "      <td>0.049442</td>\n",
       "      <td>0.802083</td>\n",
       "      <td>1028.241667</td>\n",
       "      <td>2.916667</td>\n",
       "      <td>39.62</td>\n",
       "      <td>39.80</td>\n",
       "      <td>0.70</td>\n",
       "    </tr>\n",
       "    <tr>\n",
       "      <th>5</th>\n",
       "      <td>2017</td>\n",
       "      <td>San Joaquin</td>\n",
       "      <td>62.903884</td>\n",
       "      <td>48.106542</td>\n",
       "      <td>0.002008</td>\n",
       "      <td>0.058575</td>\n",
       "      <td>1015.161869</td>\n",
       "      <td>1.884843</td>\n",
       "      <td>45.203750</td>\n",
       "      <td>33.774583</td>\n",
       "      <td>...</td>\n",
       "      <td>0.458333</td>\n",
       "      <td>89.777917</td>\n",
       "      <td>61.815000</td>\n",
       "      <td>0.055113</td>\n",
       "      <td>0.792500</td>\n",
       "      <td>1028.209580</td>\n",
       "      <td>2.958333</td>\n",
       "      <td>42.35</td>\n",
       "      <td>45.83</td>\n",
       "      <td>0.66</td>\n",
       "    </tr>\n",
       "    <tr>\n",
       "      <th>6</th>\n",
       "      <td>2017</td>\n",
       "      <td>Solano</td>\n",
       "      <td>60.680663</td>\n",
       "      <td>48.040749</td>\n",
       "      <td>0.003427</td>\n",
       "      <td>0.075106</td>\n",
       "      <td>1015.375009</td>\n",
       "      <td>1.888454</td>\n",
       "      <td>44.175833</td>\n",
       "      <td>32.546667</td>\n",
       "      <td>...</td>\n",
       "      <td>0.458333</td>\n",
       "      <td>88.050417</td>\n",
       "      <td>59.297917</td>\n",
       "      <td>0.063604</td>\n",
       "      <td>0.790417</td>\n",
       "      <td>1028.426667</td>\n",
       "      <td>2.958333</td>\n",
       "      <td>41.63</td>\n",
       "      <td>46.43</td>\n",
       "      <td>0.74</td>\n",
       "    </tr>\n",
       "    <tr>\n",
       "      <th>7</th>\n",
       "      <td>2017</td>\n",
       "      <td>Yolo</td>\n",
       "      <td>62.168563</td>\n",
       "      <td>48.184523</td>\n",
       "      <td>0.003347</td>\n",
       "      <td>0.075011</td>\n",
       "      <td>1015.110652</td>\n",
       "      <td>1.887065</td>\n",
       "      <td>43.499167</td>\n",
       "      <td>33.038333</td>\n",
       "      <td>...</td>\n",
       "      <td>0.458333</td>\n",
       "      <td>91.800000</td>\n",
       "      <td>63.077500</td>\n",
       "      <td>0.058763</td>\n",
       "      <td>0.872083</td>\n",
       "      <td>1028.480417</td>\n",
       "      <td>2.958333</td>\n",
       "      <td>43.08</td>\n",
       "      <td>46.90</td>\n",
       "      <td>0.62</td>\n",
       "    </tr>\n",
       "  </tbody>\n",
       "</table>\n",
       "<p>8 rows × 21 columns</p>\n",
       "</div>"
      ],
      "text/plain": [
       "   Year       County   Avg_Temp  Avg_DewPoint  Avg_PrInt  Avg_PrProb  \\\n",
       "0  2017       Fresno  65.327309     48.034968   0.002100    0.052753   \n",
       "1  2017         Kern  64.821293     42.755234   0.001121    0.031092   \n",
       "2  2017        Kings  65.551485     46.671882   0.000643    0.029653   \n",
       "3  2017       Merced  63.612000     48.426559   0.001446    0.042408   \n",
       "4  2017   Stanislaus  63.679627     48.361004   0.001714    0.050903   \n",
       "5  2017  San Joaquin  62.903884     48.106542   0.002008    0.058575   \n",
       "6  2017       Solano  60.680663     48.040749   0.003427    0.075106   \n",
       "7  2017         Yolo  62.168563     48.184523   0.003347    0.075011   \n",
       "\n",
       "   Avg_Pressure  Avg_Sunlight   Min_Temp  Min_DewPoint  ...   Min_Sunlight  \\\n",
       "0   1015.201555      1.940978  44.238333     31.590000  ...       0.541667   \n",
       "1   1014.815217      2.027790  42.553750     26.171250  ...       0.583333   \n",
       "2   1015.550237      1.902633  43.273333     31.081250  ...       0.583333   \n",
       "3   1015.036675      1.912042  44.727917     33.768750  ...       0.565217   \n",
       "4   1015.146197      1.886171  44.962917     33.546667  ...       0.500000   \n",
       "5   1015.161869      1.884843  45.203750     33.774583  ...       0.458333   \n",
       "6   1015.375009      1.888454  44.175833     32.546667  ...       0.458333   \n",
       "7   1015.110652      1.887065  43.499167     33.038333  ...       0.458333   \n",
       "\n",
       "    Max_Temp  Max_DewPoint  Max_PrInt  Max_PrProb  Max_Pressure  Max_Sunlight  \\\n",
       "0  93.727917     64.295417   0.037008    0.752500   1028.307917      2.958333   \n",
       "1  92.625833     59.350833   0.045875    0.618750   1027.843480      3.130435   \n",
       "2  94.075417     63.684167   0.021150    0.643333   1028.684170      2.958333   \n",
       "3  91.159167     63.177917   0.024192    0.540833   1028.159583      3.000000   \n",
       "4  91.449583     63.145833   0.049442    0.802083   1028.241667      2.916667   \n",
       "5  89.777917     61.815000   0.055113    0.792500   1028.209580      2.958333   \n",
       "6  88.050417     59.297917   0.063604    0.790417   1028.426667      2.958333   \n",
       "7  91.800000     63.077500   0.058763    0.872083   1028.480417      2.958333   \n",
       "\n",
       "   Yield 2017  Yield 2016  NDVI  \n",
       "0       50.39       50.03  0.51  \n",
       "1       51.33       46.40  0.54  \n",
       "2       51.88       54.74  0.44  \n",
       "3       47.95       47.74  0.65  \n",
       "4       39.62       39.80  0.70  \n",
       "5       42.35       45.83  0.66  \n",
       "6       41.63       46.43  0.74  \n",
       "7       43.08       46.90  0.62  \n",
       "\n",
       "[8 rows x 21 columns]"
      ]
     },
     "execution_count": 453,
     "metadata": {
      "tags": []
     },
     "output_type": "execute_result"
    }
   ],
   "source": [
    "filename = 'weather_ndvi_2017feb_jun.csv'\n",
    "weather_ndvi_2017 = pd.read_csv(filename)\n",
    "weather_ndvi_2017 = weather_ndvi_2017.drop(['Unnamed: 0'], axis = 1)\n",
    "weather_ndvi_2017"
   ]
  },
  {
   "cell_type": "code",
   "execution_count": 0,
   "metadata": {
    "colab": {},
    "colab_type": "code",
    "id": "YfOhPnJyeOAB",
    "outputId": "872ddd26-a13d-4e9a-dab8-45b56adcd4ee"
   },
   "outputs": [
    {
     "data": {
      "text/html": [
       "<div>\n",
       "<style scoped>\n",
       "    .dataframe tbody tr th:only-of-type {\n",
       "        vertical-align: middle;\n",
       "    }\n",
       "\n",
       "    .dataframe tbody tr th {\n",
       "        vertical-align: top;\n",
       "    }\n",
       "\n",
       "    .dataframe thead th {\n",
       "        text-align: right;\n",
       "    }\n",
       "</style>\n",
       "<table border=\"1\" class=\"dataframe\">\n",
       "  <thead>\n",
       "    <tr style=\"text-align: right;\">\n",
       "      <th></th>\n",
       "      <th>County</th>\n",
       "      <th>Avg_Temp</th>\n",
       "      <th>Avg_DewPoint</th>\n",
       "      <th>Avg_PrInt</th>\n",
       "      <th>Avg_PrProb</th>\n",
       "      <th>Avg_Pressure</th>\n",
       "      <th>Avg_Sunlight</th>\n",
       "      <th>Min_Temp</th>\n",
       "      <th>Min_DewPoint</th>\n",
       "      <th>Min_Pressure</th>\n",
       "      <th>Min_Sunlight</th>\n",
       "      <th>Max_Temp</th>\n",
       "      <th>Max_DewPoint</th>\n",
       "      <th>Max_PrInt</th>\n",
       "      <th>Max_PrProb</th>\n",
       "      <th>Max_Pressure</th>\n",
       "      <th>Max_Sunlight</th>\n",
       "      <th>NDVI</th>\n",
       "      <th>Yield 2017</th>\n",
       "    </tr>\n",
       "  </thead>\n",
       "  <tbody>\n",
       "    <tr>\n",
       "      <th>0</th>\n",
       "      <td>Yolo</td>\n",
       "      <td>60.172732</td>\n",
       "      <td>44.942065</td>\n",
       "      <td>0.001753</td>\n",
       "      <td>0.044552</td>\n",
       "      <td>1015.560039</td>\n",
       "      <td>1.910265</td>\n",
       "      <td>41.382500</td>\n",
       "      <td>20.582917</td>\n",
       "      <td>1004.284167</td>\n",
       "      <td>0.625000</td>\n",
       "      <td>85.066522</td>\n",
       "      <td>55.775833</td>\n",
       "      <td>0.053967</td>\n",
       "      <td>0.862083</td>\n",
       "      <td>1027.989583</td>\n",
       "      <td>2.958333</td>\n",
       "      <td>0.55</td>\n",
       "      <td>43.08</td>\n",
       "    </tr>\n",
       "    <tr>\n",
       "      <th>1</th>\n",
       "      <td>Fresno</td>\n",
       "      <td>63.983156</td>\n",
       "      <td>44.788524</td>\n",
       "      <td>0.001638</td>\n",
       "      <td>0.035504</td>\n",
       "      <td>1015.532964</td>\n",
       "      <td>1.976043</td>\n",
       "      <td>42.171250</td>\n",
       "      <td>21.971667</td>\n",
       "      <td>1004.516250</td>\n",
       "      <td>0.666667</td>\n",
       "      <td>86.625000</td>\n",
       "      <td>56.338750</td>\n",
       "      <td>0.068029</td>\n",
       "      <td>0.720833</td>\n",
       "      <td>1028.039167</td>\n",
       "      <td>2.958333</td>\n",
       "      <td>0.51</td>\n",
       "      <td>50.39</td>\n",
       "    </tr>\n",
       "    <tr>\n",
       "      <th>2</th>\n",
       "      <td>Kern</td>\n",
       "      <td>63.307544</td>\n",
       "      <td>39.286934</td>\n",
       "      <td>0.001077</td>\n",
       "      <td>0.031165</td>\n",
       "      <td>1015.004519</td>\n",
       "      <td>2.008823</td>\n",
       "      <td>39.677500</td>\n",
       "      <td>14.962500</td>\n",
       "      <td>1004.050500</td>\n",
       "      <td>0.750000</td>\n",
       "      <td>86.405217</td>\n",
       "      <td>55.794583</td>\n",
       "      <td>0.037504</td>\n",
       "      <td>0.713750</td>\n",
       "      <td>1027.395000</td>\n",
       "      <td>3.043478</td>\n",
       "      <td>0.51</td>\n",
       "      <td>51.33</td>\n",
       "    </tr>\n",
       "    <tr>\n",
       "      <th>3</th>\n",
       "      <td>Merced</td>\n",
       "      <td>61.834246</td>\n",
       "      <td>45.642247</td>\n",
       "      <td>0.001125</td>\n",
       "      <td>0.028419</td>\n",
       "      <td>1015.426486</td>\n",
       "      <td>1.946249</td>\n",
       "      <td>42.299583</td>\n",
       "      <td>23.479583</td>\n",
       "      <td>1004.533182</td>\n",
       "      <td>0.625000</td>\n",
       "      <td>82.787917</td>\n",
       "      <td>56.903750</td>\n",
       "      <td>0.032012</td>\n",
       "      <td>0.585417</td>\n",
       "      <td>1027.828333</td>\n",
       "      <td>2.916667</td>\n",
       "      <td>0.51</td>\n",
       "      <td>47.95</td>\n",
       "    </tr>\n",
       "    <tr>\n",
       "      <th>4</th>\n",
       "      <td>Kings</td>\n",
       "      <td>64.411318</td>\n",
       "      <td>43.387668</td>\n",
       "      <td>0.000504</td>\n",
       "      <td>0.021197</td>\n",
       "      <td>1015.902117</td>\n",
       "      <td>1.926739</td>\n",
       "      <td>42.434583</td>\n",
       "      <td>20.120833</td>\n",
       "      <td>1004.949580</td>\n",
       "      <td>0.625000</td>\n",
       "      <td>85.395833</td>\n",
       "      <td>56.600000</td>\n",
       "      <td>0.018613</td>\n",
       "      <td>0.576250</td>\n",
       "      <td>1028.448330</td>\n",
       "      <td>2.958333</td>\n",
       "      <td>0.43</td>\n",
       "      <td>51.88</td>\n",
       "    </tr>\n",
       "    <tr>\n",
       "      <th>5</th>\n",
       "      <td>San Joaquin</td>\n",
       "      <td>60.670858</td>\n",
       "      <td>45.144950</td>\n",
       "      <td>0.000957</td>\n",
       "      <td>0.034804</td>\n",
       "      <td>1015.499128</td>\n",
       "      <td>1.918662</td>\n",
       "      <td>42.050417</td>\n",
       "      <td>23.762917</td>\n",
       "      <td>1004.222920</td>\n",
       "      <td>0.625000</td>\n",
       "      <td>84.067826</td>\n",
       "      <td>56.734583</td>\n",
       "      <td>0.035388</td>\n",
       "      <td>0.837500</td>\n",
       "      <td>1027.661670</td>\n",
       "      <td>2.958333</td>\n",
       "      <td>0.58</td>\n",
       "      <td>42.35</td>\n",
       "    </tr>\n",
       "    <tr>\n",
       "      <th>6</th>\n",
       "      <td>Solano</td>\n",
       "      <td>59.159895</td>\n",
       "      <td>45.320140</td>\n",
       "      <td>0.001896</td>\n",
       "      <td>0.047004</td>\n",
       "      <td>1015.728271</td>\n",
       "      <td>1.911907</td>\n",
       "      <td>41.866250</td>\n",
       "      <td>22.609583</td>\n",
       "      <td>1004.540417</td>\n",
       "      <td>0.625000</td>\n",
       "      <td>83.227391</td>\n",
       "      <td>56.706250</td>\n",
       "      <td>0.048754</td>\n",
       "      <td>0.881667</td>\n",
       "      <td>1028.139167</td>\n",
       "      <td>2.958333</td>\n",
       "      <td>0.60</td>\n",
       "      <td>41.63</td>\n",
       "    </tr>\n",
       "    <tr>\n",
       "      <th>7</th>\n",
       "      <td>Stanislaus</td>\n",
       "      <td>61.798525</td>\n",
       "      <td>45.231956</td>\n",
       "      <td>0.000980</td>\n",
       "      <td>0.032897</td>\n",
       "      <td>1015.498190</td>\n",
       "      <td>1.921612</td>\n",
       "      <td>42.589583</td>\n",
       "      <td>23.939583</td>\n",
       "      <td>1004.222917</td>\n",
       "      <td>0.625000</td>\n",
       "      <td>83.850870</td>\n",
       "      <td>56.808750</td>\n",
       "      <td>0.032438</td>\n",
       "      <td>0.706250</td>\n",
       "      <td>1027.783333</td>\n",
       "      <td>2.916667</td>\n",
       "      <td>0.58</td>\n",
       "      <td>39.62</td>\n",
       "    </tr>\n",
       "  </tbody>\n",
       "</table>\n",
       "</div>"
      ],
      "text/plain": [
       "        County   Avg_Temp  Avg_DewPoint  Avg_PrInt  Avg_PrProb  Avg_Pressure  \\\n",
       "0         Yolo  60.172732     44.942065   0.001753    0.044552   1015.560039   \n",
       "1       Fresno  63.983156     44.788524   0.001638    0.035504   1015.532964   \n",
       "2         Kern  63.307544     39.286934   0.001077    0.031165   1015.004519   \n",
       "3       Merced  61.834246     45.642247   0.001125    0.028419   1015.426486   \n",
       "4        Kings  64.411318     43.387668   0.000504    0.021197   1015.902117   \n",
       "5  San Joaquin  60.670858     45.144950   0.000957    0.034804   1015.499128   \n",
       "6       Solano  59.159895     45.320140   0.001896    0.047004   1015.728271   \n",
       "7   Stanislaus  61.798525     45.231956   0.000980    0.032897   1015.498190   \n",
       "\n",
       "   Avg_Sunlight   Min_Temp  Min_DewPoint  Min_Pressure  Min_Sunlight  \\\n",
       "0      1.910265  41.382500     20.582917   1004.284167      0.625000   \n",
       "1      1.976043  42.171250     21.971667   1004.516250      0.666667   \n",
       "2      2.008823  39.677500     14.962500   1004.050500      0.750000   \n",
       "3      1.946249  42.299583     23.479583   1004.533182      0.625000   \n",
       "4      1.926739  42.434583     20.120833   1004.949580      0.625000   \n",
       "5      1.918662  42.050417     23.762917   1004.222920      0.625000   \n",
       "6      1.911907  41.866250     22.609583   1004.540417      0.625000   \n",
       "7      1.921612  42.589583     23.939583   1004.222917      0.625000   \n",
       "\n",
       "    Max_Temp  Max_DewPoint  Max_PrInt  Max_PrProb  Max_Pressure  Max_Sunlight  \\\n",
       "0  85.066522     55.775833   0.053967    0.862083   1027.989583      2.958333   \n",
       "1  86.625000     56.338750   0.068029    0.720833   1028.039167      2.958333   \n",
       "2  86.405217     55.794583   0.037504    0.713750   1027.395000      3.043478   \n",
       "3  82.787917     56.903750   0.032012    0.585417   1027.828333      2.916667   \n",
       "4  85.395833     56.600000   0.018613    0.576250   1028.448330      2.958333   \n",
       "5  84.067826     56.734583   0.035388    0.837500   1027.661670      2.958333   \n",
       "6  83.227391     56.706250   0.048754    0.881667   1028.139167      2.958333   \n",
       "7  83.850870     56.808750   0.032438    0.706250   1027.783333      2.916667   \n",
       "\n",
       "   NDVI  Yield 2017  \n",
       "0  0.55       43.08  \n",
       "1  0.51       50.39  \n",
       "2  0.51       51.33  \n",
       "3  0.51       47.95  \n",
       "4  0.43       51.88  \n",
       "5  0.58       42.35  \n",
       "6  0.60       41.63  \n",
       "7  0.58       39.62  "
      ]
     },
     "execution_count": 454,
     "metadata": {
      "tags": []
     },
     "output_type": "execute_result"
    }
   ],
   "source": [
    "filename = 'weather_ndvi_2018feb_jun.csv'\n",
    "weather_ndvi_2018 = pd.read_csv(filename)\n",
    "weather_ndvi_2018 = weather_ndvi_2018.drop(['Unnamed: 0'], axis = 1)\n",
    "weather_ndvi_2018"
   ]
  },
  {
   "cell_type": "markdown",
   "metadata": {
    "colab_type": "text",
    "id": "DDbhSM0ZeOAF"
   },
   "source": [
    "## Feature Selection"
   ]
  },
  {
   "cell_type": "code",
   "execution_count": 0,
   "metadata": {
    "colab": {},
    "colab_type": "code",
    "id": "WoGeAlEreOAG"
   },
   "outputs": [],
   "source": [
    "from mlxtend.regressor import StackingCVRegressor\n",
    "from sklearn.model_selection import cross_val_score\n",
    "import numpy as np\n",
    "from sklearn.linear_model import Lasso\n",
    "from sklearn.ensemble import RandomForestRegressor\n",
    "from sklearn.model_selection import GridSearchCV\n",
    "from sklearn import linear_model\n",
    "from sklearn.linear_model import LinearRegression, Lasso, Ridge\n",
    "from sklearn.metrics import r2_score\n",
    "from sklearn.metrics import mean_squared_error"
   ]
  },
  {
   "cell_type": "code",
   "execution_count": 0,
   "metadata": {
    "colab": {},
    "colab_type": "code",
    "id": "8RuxaNBzeOAJ"
   },
   "outputs": [],
   "source": [
    "# Define X and y\n",
    "X = weather_ndvi_2016.drop(['County','Yield 2016','Year'], axis = 1)\n",
    "y = weather_ndvi_2016[['Yield 2016']]"
   ]
  },
  {
   "cell_type": "code",
   "execution_count": 0,
   "metadata": {
    "colab": {},
    "colab_type": "code",
    "id": "mdHMOIKLeOAL",
    "outputId": "746058e8-3e83-48f8-c10a-af766ba8c877"
   },
   "outputs": [
    {
     "data": {
      "text/html": [
       "<div>\n",
       "<style scoped>\n",
       "    .dataframe tbody tr th:only-of-type {\n",
       "        vertical-align: middle;\n",
       "    }\n",
       "\n",
       "    .dataframe tbody tr th {\n",
       "        vertical-align: top;\n",
       "    }\n",
       "\n",
       "    .dataframe thead th {\n",
       "        text-align: right;\n",
       "    }\n",
       "</style>\n",
       "<table border=\"1\" class=\"dataframe\">\n",
       "  <thead>\n",
       "    <tr style=\"text-align: right;\">\n",
       "      <th></th>\n",
       "      <th>Avg_Temp</th>\n",
       "      <th>Avg_DewPoint</th>\n",
       "      <th>Avg_PrInt</th>\n",
       "      <th>Avg_PrProb</th>\n",
       "      <th>Avg_Pressure</th>\n",
       "      <th>Avg_Sunlight</th>\n",
       "      <th>Min_Temp</th>\n",
       "      <th>Min_DewPoint</th>\n",
       "      <th>Min_Pressure</th>\n",
       "      <th>Min_Sunlight</th>\n",
       "      <th>Max_Temp</th>\n",
       "      <th>Max_DewPoint</th>\n",
       "      <th>Max_PrInt</th>\n",
       "      <th>Max_PrProb</th>\n",
       "      <th>Max_Pressure</th>\n",
       "      <th>Max_Sunlight</th>\n",
       "      <th>Yield 2015</th>\n",
       "      <th>NDVI</th>\n",
       "    </tr>\n",
       "  </thead>\n",
       "  <tbody>\n",
       "    <tr>\n",
       "      <th>0</th>\n",
       "      <td>65.767168</td>\n",
       "      <td>47.040129</td>\n",
       "      <td>0.001532</td>\n",
       "      <td>0.029722</td>\n",
       "      <td>1015.798488</td>\n",
       "      <td>1.844383</td>\n",
       "      <td>41.815417</td>\n",
       "      <td>33.372083</td>\n",
       "      <td>1006.263333</td>\n",
       "      <td>0.541667</td>\n",
       "      <td>90.696667</td>\n",
       "      <td>55.725417</td>\n",
       "      <td>0.043450</td>\n",
       "      <td>0.588750</td>\n",
       "      <td>1030.474167</td>\n",
       "      <td>2.958333</td>\n",
       "      <td>50.89</td>\n",
       "      <td>0.46</td>\n",
       "    </tr>\n",
       "    <tr>\n",
       "      <th>1</th>\n",
       "      <td>65.262735</td>\n",
       "      <td>41.647347</td>\n",
       "      <td>0.000986</td>\n",
       "      <td>0.023907</td>\n",
       "      <td>1015.444901</td>\n",
       "      <td>2.026358</td>\n",
       "      <td>39.931667</td>\n",
       "      <td>27.670417</td>\n",
       "      <td>1006.236520</td>\n",
       "      <td>0.625000</td>\n",
       "      <td>90.446250</td>\n",
       "      <td>53.150417</td>\n",
       "      <td>0.020871</td>\n",
       "      <td>0.422500</td>\n",
       "      <td>1029.892500</td>\n",
       "      <td>3.130435</td>\n",
       "      <td>45.66</td>\n",
       "      <td>0.54</td>\n",
       "    </tr>\n",
       "    <tr>\n",
       "      <th>2</th>\n",
       "      <td>66.622236</td>\n",
       "      <td>45.098102</td>\n",
       "      <td>0.000272</td>\n",
       "      <td>0.013307</td>\n",
       "      <td>1016.091034</td>\n",
       "      <td>1.903710</td>\n",
       "      <td>41.900000</td>\n",
       "      <td>30.452083</td>\n",
       "      <td>1006.545420</td>\n",
       "      <td>0.583333</td>\n",
       "      <td>90.749167</td>\n",
       "      <td>56.678750</td>\n",
       "      <td>0.009479</td>\n",
       "      <td>0.387083</td>\n",
       "      <td>1030.874170</td>\n",
       "      <td>2.916667</td>\n",
       "      <td>50.79</td>\n",
       "      <td>0.50</td>\n",
       "    </tr>\n",
       "    <tr>\n",
       "      <th>3</th>\n",
       "      <td>64.238756</td>\n",
       "      <td>48.160975</td>\n",
       "      <td>0.001386</td>\n",
       "      <td>0.029386</td>\n",
       "      <td>1015.685524</td>\n",
       "      <td>1.934951</td>\n",
       "      <td>42.762917</td>\n",
       "      <td>28.665000</td>\n",
       "      <td>1004.561304</td>\n",
       "      <td>0.541667</td>\n",
       "      <td>87.379167</td>\n",
       "      <td>58.118333</td>\n",
       "      <td>0.041350</td>\n",
       "      <td>0.697500</td>\n",
       "      <td>1030.223750</td>\n",
       "      <td>2.916667</td>\n",
       "      <td>48.61</td>\n",
       "      <td>0.54</td>\n",
       "    </tr>\n",
       "    <tr>\n",
       "      <th>4</th>\n",
       "      <td>64.766756</td>\n",
       "      <td>48.639886</td>\n",
       "      <td>0.001494</td>\n",
       "      <td>0.035733</td>\n",
       "      <td>1015.830667</td>\n",
       "      <td>1.933643</td>\n",
       "      <td>43.950417</td>\n",
       "      <td>28.714167</td>\n",
       "      <td>1003.546667</td>\n",
       "      <td>0.458333</td>\n",
       "      <td>86.929167</td>\n",
       "      <td>58.341667</td>\n",
       "      <td>0.041283</td>\n",
       "      <td>0.860417</td>\n",
       "      <td>1030.282917</td>\n",
       "      <td>2.916667</td>\n",
       "      <td>43.05</td>\n",
       "      <td>0.62</td>\n",
       "    </tr>\n",
       "  </tbody>\n",
       "</table>\n",
       "</div>"
      ],
      "text/plain": [
       "    Avg_Temp  Avg_DewPoint  Avg_PrInt  Avg_PrProb  Avg_Pressure  Avg_Sunlight  \\\n",
       "0  65.767168     47.040129   0.001532    0.029722   1015.798488      1.844383   \n",
       "1  65.262735     41.647347   0.000986    0.023907   1015.444901      2.026358   \n",
       "2  66.622236     45.098102   0.000272    0.013307   1016.091034      1.903710   \n",
       "3  64.238756     48.160975   0.001386    0.029386   1015.685524      1.934951   \n",
       "4  64.766756     48.639886   0.001494    0.035733   1015.830667      1.933643   \n",
       "\n",
       "    Min_Temp  Min_DewPoint  Min_Pressure  Min_Sunlight   Max_Temp  \\\n",
       "0  41.815417     33.372083   1006.263333      0.541667  90.696667   \n",
       "1  39.931667     27.670417   1006.236520      0.625000  90.446250   \n",
       "2  41.900000     30.452083   1006.545420      0.583333  90.749167   \n",
       "3  42.762917     28.665000   1004.561304      0.541667  87.379167   \n",
       "4  43.950417     28.714167   1003.546667      0.458333  86.929167   \n",
       "\n",
       "   Max_DewPoint  Max_PrInt  Max_PrProb  Max_Pressure  Max_Sunlight  \\\n",
       "0     55.725417   0.043450    0.588750   1030.474167      2.958333   \n",
       "1     53.150417   0.020871    0.422500   1029.892500      3.130435   \n",
       "2     56.678750   0.009479    0.387083   1030.874170      2.916667   \n",
       "3     58.118333   0.041350    0.697500   1030.223750      2.916667   \n",
       "4     58.341667   0.041283    0.860417   1030.282917      2.916667   \n",
       "\n",
       "   Yield 2015  NDVI  \n",
       "0       50.89  0.46  \n",
       "1       45.66  0.54  \n",
       "2       50.79  0.50  \n",
       "3       48.61  0.54  \n",
       "4       43.05  0.62  "
      ]
     },
     "execution_count": 256,
     "metadata": {
      "tags": []
     },
     "output_type": "execute_result"
    }
   ],
   "source": [
    "X.head()"
   ]
  },
  {
   "cell_type": "markdown",
   "metadata": {
    "colab_type": "text",
    "id": "vy4Cc8k9eOAO"
   },
   "source": [
    "### Lasso Regression - Coefficients"
   ]
  },
  {
   "cell_type": "code",
   "execution_count": 0,
   "metadata": {
    "colab": {},
    "colab_type": "code",
    "id": "lYQVBmGaeOAQ",
    "outputId": "caace718-c5de-450c-8b13-87dd20304c61"
   },
   "outputs": [
    {
     "data": {
      "text/plain": [
       "0.6398291653918067"
      ]
     },
     "execution_count": 257,
     "metadata": {
      "tags": []
     },
     "output_type": "execute_result"
    }
   ],
   "source": [
    "# Lasso - Full \n",
    "model = linear_model.Lasso()\n",
    "lasso_reg = model.fit(X,y)\n",
    "lasso_reg.score(X,y)"
   ]
  },
  {
   "cell_type": "code",
   "execution_count": 0,
   "metadata": {
    "colab": {},
    "colab_type": "code",
    "id": "ipEcHcZEeOAW",
    "outputId": "80897446-2747-4548-d9ae-5510583ecb8e"
   },
   "outputs": [
    {
     "data": {
      "text/plain": [
       "array([ 0.        , -0.10299913, -0.        , -0.        ,  0.        ,\n",
       "       -0.        ,  0.        ,  0.        ,  0.        ,  0.        ,\n",
       "        0.        , -0.        , -0.        , -0.        ,  0.        ,\n",
       "        0.        ,  0.87148258, -0.        ])"
      ]
     },
     "execution_count": 258,
     "metadata": {
      "tags": []
     },
     "output_type": "execute_result"
    }
   ],
   "source": [
    "lasso_reg.coef_"
   ]
  },
  {
   "cell_type": "code",
   "execution_count": 0,
   "metadata": {
    "colab": {},
    "colab_type": "code",
    "id": "8raJJ6aDeOAZ",
    "outputId": "1bd39870-b871-4ef5-ec74-8b2ee7fbef45"
   },
   "outputs": [
    {
     "data": {
      "text/plain": [
       "Index(['Avg_Temp', 'Avg_DewPoint', 'Avg_PrInt', 'Avg_PrProb', 'Avg_Pressure',\n",
       "       'Avg_Sunlight', 'Min_Temp', 'Min_DewPoint', 'Min_Pressure',\n",
       "       'Min_Sunlight', 'Max_Temp', 'Max_DewPoint', 'Max_PrInt', 'Max_PrProb',\n",
       "       'Max_Pressure', 'Max_Sunlight', 'Yield 2015', 'NDVI'],\n",
       "      dtype='object')"
      ]
     },
     "execution_count": 259,
     "metadata": {
      "tags": []
     },
     "output_type": "execute_result"
    }
   ],
   "source": [
    "X.columns # 'Avg_DewPoint' and 'Yield 2015' as predictors --> test in stepwise regression"
   ]
  },
  {
   "cell_type": "code",
   "execution_count": 0,
   "metadata": {
    "colab": {},
    "colab_type": "code",
    "id": "_s2dTmoieOAc"
   },
   "outputs": [],
   "source": [
    "X_train1 = weather_ndvi_2016[['Avg_DewPoint','Yield 2015']] # test it"
   ]
  },
  {
   "cell_type": "markdown",
   "metadata": {
    "colab_type": "text",
    "id": "D9H0yk2FeOAe"
   },
   "source": [
    "### Random Forest - Top 5 Feature Importances"
   ]
  },
  {
   "cell_type": "code",
   "execution_count": 0,
   "metadata": {
    "colab": {},
    "colab_type": "code",
    "id": "HqpPg0PleOAf",
    "outputId": "c61ae535-afa6-4585-b712-564b0c1e2995"
   },
   "outputs": [
    {
     "name": "stderr",
     "output_type": "stream",
     "text": [
      "/anaconda/lib/python3.6/site-packages/sklearn/ensemble/forest.py:248: FutureWarning:\n",
      "\n",
      "The default value of n_estimators will change from 10 in version 0.20 to 100 in 0.22.\n",
      "\n",
      "/anaconda/lib/python3.6/site-packages/ipykernel_launcher.py:3: DataConversionWarning:\n",
      "\n",
      "A column-vector y was passed when a 1d array was expected. Please change the shape of y to (n_samples,), for example using ravel().\n",
      "\n"
     ]
    },
    {
     "data": {
      "text/plain": [
       "0.9120273454408984"
      ]
     },
     "execution_count": 261,
     "metadata": {
      "tags": []
     },
     "output_type": "execute_result"
    }
   ],
   "source": [
    "# Random Forest\n",
    "model = RandomForestRegressor(random_state = 55)\n",
    "rf_reg = model.fit(X,y)\n",
    "rf_reg.score(X,y)"
   ]
  },
  {
   "cell_type": "code",
   "execution_count": 0,
   "metadata": {
    "colab": {},
    "colab_type": "code",
    "id": "thQkg9UTeOAk",
    "outputId": "d86506ad-72a1-4f12-cfb2-5c252038f2b4"
   },
   "outputs": [
    {
     "data": {
      "text/plain": [
       "array([7.41394680e-02, 0.00000000e+00, 1.55788618e-06, 1.81004548e-01,\n",
       "       0.00000000e+00, 0.00000000e+00, 8.90181220e-03, 2.65974977e-02,\n",
       "       7.62220632e-04, 6.94171060e-02, 2.73061145e-02, 1.34619865e-01,\n",
       "       1.80481910e-02, 1.78386459e-03, 4.18127644e-02, 2.70213051e-02,\n",
       "       2.41892517e-01, 1.46691168e-01])"
      ]
     },
     "execution_count": 262,
     "metadata": {
      "tags": []
     },
     "output_type": "execute_result"
    }
   ],
   "source": [
    "rf_reg.feature_importances_"
   ]
  },
  {
   "cell_type": "code",
   "execution_count": 0,
   "metadata": {
    "colab": {},
    "colab_type": "code",
    "id": "E480zIXZeOAn",
    "outputId": "ac29a192-9d2c-4e54-8bbb-efa96475489d"
   },
   "outputs": [
    {
     "data": {
      "text/plain": [
       "[0.24189251708751755,\n",
       " 0.18100454804832894,\n",
       " 0.14669116797279083,\n",
       " 0.13461986495148168,\n",
       " 0.07413946796996582]"
      ]
     },
     "execution_count": 263,
     "metadata": {
      "tags": []
     },
     "output_type": "execute_result"
    }
   ],
   "source": [
    "# top 5 feature importances\n",
    "a = rf_reg.feature_importances_\n",
    "l = list(sorted(a, reverse=True))\n",
    "l[:5]"
   ]
  },
  {
   "cell_type": "code",
   "execution_count": 0,
   "metadata": {
    "colab": {},
    "colab_type": "code",
    "id": "AZPtrwSIeOBd",
    "outputId": "1958f376-4fc3-477c-9bc8-4d22bc7f7dc5"
   },
   "outputs": [
    {
     "data": {
      "text/plain": [
       "Index(['Avg_Temp', 'Avg_DewPoint', 'Avg_PrInt', 'Avg_PrProb', 'Avg_Pressure',\n",
       "       'Avg_Sunlight', 'Min_Temp', 'Min_DewPoint', 'Min_Pressure',\n",
       "       'Min_Sunlight', 'Max_Temp', 'Max_DewPoint', 'Max_PrInt', 'Max_PrProb',\n",
       "       'Max_Pressure', 'Max_Sunlight', 'Yield 2015', 'NDVI'],\n",
       "      dtype='object')"
      ]
     },
     "execution_count": 264,
     "metadata": {
      "tags": []
     },
     "output_type": "execute_result"
    }
   ],
   "source": [
    "X.columns #'Yield 2015', 'Avg_PrProb', 'NDVI', 'Max_DewPoint', 'Avg_Temp'"
   ]
  },
  {
   "cell_type": "code",
   "execution_count": 0,
   "metadata": {
    "colab": {},
    "colab_type": "code",
    "id": "VHmtxp7teOBi"
   },
   "outputs": [],
   "source": [
    "X_train2 = weather_ndvi_2016[['Yield 2015', 'Avg_PrProb', 'NDVI', 'Max_DewPoint', 'Avg_Temp']] # test it"
   ]
  },
  {
   "cell_type": "markdown",
   "metadata": {
    "colab_type": "text",
    "id": "CihH2CJreOBm"
   },
   "source": [
    "### Stepwise Regression in R"
   ]
  },
  {
   "cell_type": "code",
   "execution_count": 0,
   "metadata": {
    "colab": {},
    "colab_type": "code",
    "id": "cAV_o3Q-eOBn"
   },
   "outputs": [],
   "source": [
    "X_train3 = weather_ndvi_2016[['Avg_PrProb', 'NDVI', 'Max_DewPoint']] # stepwise from rf with 83/70\n",
    "X_train4 = weather_ndvi_2016[['Avg_PrProb', 'NDVI', 'Max_DewPoint', 'Yield 2015']] # stepwise from rf 89/75\n",
    "X_train5 = weather_ndvi_2016[['Avg_PrProb', 'NDVI']] # stepwise from rf 77/68\n",
    "X_train6 = weather_ndvi_2016[['Max_Temp','Avg_Sunlight', 'Max_PrProb','NDVI','Yield 2015']] # currently used\n",
    "X_train7 = weather_ndvi_2016[['Max_Temp','NDVI','Yield 2015']] # reduced"
   ]
  },
  {
   "cell_type": "markdown",
   "metadata": {
    "colab_type": "text",
    "id": "K5XVnIqneOBp"
   },
   "source": [
    "### Train with Linear Regression on 2016"
   ]
  },
  {
   "cell_type": "code",
   "execution_count": 0,
   "metadata": {
    "colab": {},
    "colab_type": "code",
    "id": "vEBK7ZOFeOBr"
   },
   "outputs": [],
   "source": [
    "lin = LinearRegression()\n",
    "param_lin = {'fit_intercept' : [True, False],\n",
    "             'normalize' : [True, False]}\n",
    "grid_lg = GridSearchCV(lin, param_lin, scoring='neg_mean_squared_error', cv=8, n_jobs=-1)"
   ]
  },
  {
   "cell_type": "code",
   "execution_count": 0,
   "metadata": {
    "colab": {},
    "colab_type": "code",
    "id": "MPnWnkk3eOB3"
   },
   "outputs": [],
   "source": [
    "y_train = y"
   ]
  },
  {
   "cell_type": "code",
   "execution_count": 0,
   "metadata": {
    "colab": {},
    "colab_type": "code",
    "id": "kY2CW6qxeOCB",
    "outputId": "2e8c6125-576b-4005-94bc-cf1f96743d7a"
   },
   "outputs": [
    {
     "data": {
      "text/plain": [
       "0.6362503548491718"
      ]
     },
     "execution_count": 270,
     "metadata": {
      "tags": []
     },
     "output_type": "execute_result"
    }
   ],
   "source": [
    "X_train1 = weather_ndvi_2016[['Avg_DewPoint','Yield 2015']]\n",
    "grid_lg.fit(X_train1,y_train)\n",
    "best_lg = grid_lg.best_estimator_\n",
    "best_lg.fit(X_train1,y_train)\n",
    "best_lg.score(X_train1,y_train)"
   ]
  },
  {
   "cell_type": "code",
   "execution_count": 0,
   "metadata": {
    "colab": {},
    "colab_type": "code",
    "id": "RkOulIA7eOCC",
    "outputId": "8659119c-f908-49f0-dab2-4987e2d42439"
   },
   "outputs": [
    {
     "data": {
      "text/plain": [
       "0.9140782966159916"
      ]
     },
     "execution_count": 271,
     "metadata": {
      "tags": []
     },
     "output_type": "execute_result"
    }
   ],
   "source": [
    "X_train2 = weather_ndvi_2016[['Yield 2015', 'Avg_PrProb', 'NDVI', 'Max_DewPoint', 'Avg_Temp']] # test it\n",
    "grid_lg.fit(X_train2,y_train)\n",
    "best_lg = grid_lg.best_estimator_\n",
    "best_lg.fit(X_train2,y_train)\n",
    "best_lg.score(X_train2,y_train)"
   ]
  },
  {
   "cell_type": "code",
   "execution_count": 0,
   "metadata": {
    "colab": {},
    "colab_type": "code",
    "id": "medQ5hSCeOCF",
    "outputId": "4e4dff73-4518-4cb2-9c11-d33ce26b3715"
   },
   "outputs": [
    {
     "data": {
      "text/plain": [
       "0.7230765698967373"
      ]
     },
     "execution_count": 272,
     "metadata": {
      "tags": []
     },
     "output_type": "execute_result"
    }
   ],
   "source": [
    "X_train3 = weather_ndvi_2016[['Avg_PrProb', 'NDVI', 'Max_DewPoint']] # stepwise from rf with 83/70\n",
    "grid_lg.fit(X_train3,y_train)\n",
    "best_lg = grid_lg.best_estimator_\n",
    "best_lg.fit(X_train3,y_train)\n",
    "best_lg.score(X_train3,y_train)"
   ]
  },
  {
   "cell_type": "code",
   "execution_count": 0,
   "metadata": {
    "colab": {},
    "colab_type": "code",
    "id": "74JCjOzweOCI",
    "outputId": "c91fe847-7dd2-4941-cc9a-f2b7df0e094c"
   },
   "outputs": [
    {
     "data": {
      "text/plain": [
       "0.8912831561616948"
      ]
     },
     "execution_count": 273,
     "metadata": {
      "tags": []
     },
     "output_type": "execute_result"
    }
   ],
   "source": [
    "X_train4 = weather_ndvi_2016[['Avg_PrProb', 'NDVI', 'Max_DewPoint', 'Yield 2015']] # stepwise from rf 89/75\n",
    "grid_lg.fit(X_train4,y_train)\n",
    "best_lg = grid_lg.best_estimator_\n",
    "best_lg.fit(X_train4,y_train)\n",
    "best_lg.score(X_train4,y_train)"
   ]
  },
  {
   "cell_type": "code",
   "execution_count": 0,
   "metadata": {
    "colab": {},
    "colab_type": "code",
    "id": "BDC37VUPeOCL",
    "outputId": "148b1033-7e4c-423c-8e7e-ecd419de4352"
   },
   "outputs": [
    {
     "data": {
      "text/plain": [
       "0.7732996853090413"
      ]
     },
     "execution_count": 274,
     "metadata": {
      "tags": []
     },
     "output_type": "execute_result"
    }
   ],
   "source": [
    "X_train5 = weather_ndvi_2016[['Avg_PrProb', 'NDVI']] # stepwise from rf 77/68\n",
    "grid_lg.fit(X_train5,y_train)\n",
    "best_lg = grid_lg.best_estimator_\n",
    "best_lg.fit(X_train5,y_train)\n",
    "best_lg.score(X_train5,y_train)"
   ]
  },
  {
   "cell_type": "code",
   "execution_count": 0,
   "metadata": {
    "colab": {},
    "colab_type": "code",
    "id": "iNGBWOHPeOCN",
    "outputId": "f054103d-11bc-422e-aa80-3290a7a54d95"
   },
   "outputs": [
    {
     "data": {
      "text/plain": [
       "0.695930491000893"
      ]
     },
     "execution_count": 276,
     "metadata": {
      "tags": []
     },
     "output_type": "execute_result"
    }
   ],
   "source": [
    "X_train6 = weather_ndvi_2016[['Max_Temp','Avg_Sunlight', 'Max_PrProb','NDVI','Yield 2015']] # currently used\n",
    "grid_lg.fit(X_train6,y_train)\n",
    "best_lg = grid_lg.best_estimator_\n",
    "best_lg.fit(X_train6,y_train)\n",
    "best_lg.score(X_train6,y_train)"
   ]
  },
  {
   "cell_type": "code",
   "execution_count": 0,
   "metadata": {
    "colab": {},
    "colab_type": "code",
    "id": "R0JZugGCeOCP",
    "outputId": "bc7de53f-360a-48b1-bf29-4a94271a46e7"
   },
   "outputs": [
    {
     "data": {
      "text/plain": [
       "0.6472970891383414"
      ]
     },
     "execution_count": 278,
     "metadata": {
      "tags": []
     },
     "output_type": "execute_result"
    }
   ],
   "source": [
    "X_train7 = weather_ndvi_2016[['Max_Temp','NDVI','Yield 2015']] # currently used\n",
    "grid_lg.fit(X_train7,y_train)\n",
    "best_lg = grid_lg.best_estimator_\n",
    "best_lg.fit(X_train7,y_train)\n",
    "best_lg.score(X_train7,y_train)"
   ]
  },
  {
   "cell_type": "code",
   "execution_count": 0,
   "metadata": {
    "colab": {},
    "colab_type": "code",
    "id": "0FCG9bureOCR",
    "outputId": "3b6b28e9-7c59-4cae-8fb8-c09802aeb967"
   },
   "outputs": [
    {
     "data": {
      "text/plain": [
       "0.6940013508372288"
      ]
     },
     "execution_count": 385,
     "metadata": {
      "tags": []
     },
     "output_type": "execute_result"
    }
   ],
   "source": [
    "X_train8 = weather_ndvi_2016[['Max_PrProb','NDVI','Yield 2015']] # currently used\n",
    "grid_lg.fit(X_train8,y_train)\n",
    "best_lg = grid_lg.best_estimator_\n",
    "best_lg.fit(X_train8,y_train)\n",
    "best_lg.score(X_train8,y_train)"
   ]
  },
  {
   "cell_type": "markdown",
   "metadata": {
    "colab_type": "text",
    "id": "YekqCm1EeOCT"
   },
   "source": [
    "### Test with Linear Regression on 2017"
   ]
  },
  {
   "cell_type": "code",
   "execution_count": 0,
   "metadata": {
    "colab": {},
    "colab_type": "code",
    "id": "sqOWOeXUeOCU"
   },
   "outputs": [],
   "source": [
    "y_test = weather_ndvi_2017[['Yield 2017']]"
   ]
  },
  {
   "cell_type": "code",
   "execution_count": 0,
   "metadata": {
    "colab": {},
    "colab_type": "code",
    "id": "9eGqYhlieOCW",
    "outputId": "9645a5b7-d768-4a82-c030-dbd7b6224daf"
   },
   "outputs": [
    {
     "data": {
      "text/plain": [
       "0.6362503548491718"
      ]
     },
     "execution_count": 281,
     "metadata": {
      "tags": []
     },
     "output_type": "execute_result"
    }
   ],
   "source": [
    "grid_lg.fit(X_train1,y_train)\n",
    "best_lg = grid_lg.best_estimator_\n",
    "best_ln = best_lg.fit(X_train1,y_train)\n",
    "\n",
    "best_ln.score(X_train1,y_train)"
   ]
  },
  {
   "cell_type": "code",
   "execution_count": 0,
   "metadata": {
    "colab": {},
    "colab_type": "code",
    "id": "u1RIy-0QeOCd",
    "outputId": "2ed8f36a-d4c7-43f7-bc25-b598044cc7f3"
   },
   "outputs": [
    {
     "data": {
      "text/plain": [
       "0.5597610100130521"
      ]
     },
     "execution_count": 282,
     "metadata": {
      "tags": []
     },
     "output_type": "execute_result"
    }
   ],
   "source": [
    "X_test1 = weather_ndvi_2017[['Avg_DewPoint','Yield 2016']]\n",
    "best_ln.score(X_test1,y_test)"
   ]
  },
  {
   "cell_type": "code",
   "execution_count": 0,
   "metadata": {
    "colab": {},
    "colab_type": "code",
    "id": "fylrnYQTeOCf"
   },
   "outputs": [],
   "source": [
    "y_pred_ln = best_ln.predict(X_test1)"
   ]
  },
  {
   "cell_type": "code",
   "execution_count": 0,
   "metadata": {
    "colab": {},
    "colab_type": "code",
    "id": "fmnlTr9yeOCh",
    "outputId": "33d63404-2b2c-43a8-d809-29fd9e284950"
   },
   "outputs": [
    {
     "data": {
      "text/plain": [
       "0.9140782966159916"
      ]
     },
     "execution_count": 284,
     "metadata": {
      "tags": []
     },
     "output_type": "execute_result"
    }
   ],
   "source": [
    "grid_lg.fit(X_train2,y_train)\n",
    "best_lg = grid_lg.best_estimator_\n",
    "best_lg.fit(X_train2,y_train)\n",
    "\n",
    "best_lg.score(X_train2,y_train)"
   ]
  },
  {
   "cell_type": "code",
   "execution_count": 0,
   "metadata": {
    "colab": {},
    "colab_type": "code",
    "id": "Dlr1OzOpeOCi",
    "outputId": "909c8609-fcf0-47ad-8a50-e2c8635cb42c"
   },
   "outputs": [
    {
     "data": {
      "text/plain": [
       "-2.840494131983595"
      ]
     },
     "execution_count": 285,
     "metadata": {
      "tags": []
     },
     "output_type": "execute_result"
    }
   ],
   "source": [
    "X_test2 = weather_ndvi_2017[['Yield 2016', 'Avg_PrProb', 'NDVI', 'Max_DewPoint', 'Avg_Temp']] # test it\n",
    "best_lg.score(X_test2,y_test)"
   ]
  },
  {
   "cell_type": "code",
   "execution_count": 0,
   "metadata": {
    "colab": {},
    "colab_type": "code",
    "id": "2M23XpdEeOCl",
    "outputId": "49b2e7e1-ac7a-477a-f0e4-7517c4ec076e"
   },
   "outputs": [
    {
     "data": {
      "text/plain": [
       "0.7230765698967373"
      ]
     },
     "execution_count": 286,
     "metadata": {
      "tags": []
     },
     "output_type": "execute_result"
    }
   ],
   "source": [
    "grid_lg.fit(X_train3,y_train)\n",
    "best_lg = grid_lg.best_estimator_\n",
    "best_lg.fit(X_train3,y_train)\n",
    "\n",
    "best_lg.score(X_train3,y_train)"
   ]
  },
  {
   "cell_type": "code",
   "execution_count": 0,
   "metadata": {
    "colab": {},
    "colab_type": "code",
    "id": "P0WUHWx1eOCo",
    "outputId": "1a1b3f90-bd0f-44c9-bc20-673894d2397e"
   },
   "outputs": [
    {
     "data": {
      "text/plain": [
       "-0.577902022651761"
      ]
     },
     "execution_count": 287,
     "metadata": {
      "tags": []
     },
     "output_type": "execute_result"
    }
   ],
   "source": [
    "X_test3 = weather_ndvi_2017[['Avg_PrProb', 'NDVI', 'Max_DewPoint']] # stepwise from rf with 83/70\n",
    "best_lg.score(X_test3,y_test)"
   ]
  },
  {
   "cell_type": "code",
   "execution_count": 0,
   "metadata": {
    "colab": {},
    "colab_type": "code",
    "id": "1oDwCrXUeOCx",
    "outputId": "66df252e-a695-4241-93d5-38a614f2dd51"
   },
   "outputs": [
    {
     "data": {
      "text/plain": [
       "0.8912831561616948"
      ]
     },
     "execution_count": 288,
     "metadata": {
      "tags": []
     },
     "output_type": "execute_result"
    }
   ],
   "source": [
    "grid_lg.fit(X_train4,y_train)\n",
    "best_lg = grid_lg.best_estimator_\n",
    "best_lg.fit(X_train4,y_train)\n",
    "best_lg.score(X_train4,y_train)"
   ]
  },
  {
   "cell_type": "code",
   "execution_count": 0,
   "metadata": {
    "colab": {},
    "colab_type": "code",
    "id": "olJZs9P5eOCy",
    "outputId": "e79c3920-939c-4ecb-e51d-29107b7f68e0"
   },
   "outputs": [
    {
     "data": {
      "text/plain": [
       "-2.3647751558122914"
      ]
     },
     "execution_count": 289,
     "metadata": {
      "tags": []
     },
     "output_type": "execute_result"
    }
   ],
   "source": [
    "X_test4 = weather_ndvi_2017[['Avg_PrProb', 'NDVI', 'Max_DewPoint', 'Yield 2016']] # stepwise from rf 89/75\n",
    "best_lg.score(X_test4,y_test)"
   ]
  },
  {
   "cell_type": "code",
   "execution_count": 0,
   "metadata": {
    "colab": {},
    "colab_type": "code",
    "id": "MaZg0q26eOC1",
    "outputId": "7524a272-8606-44ed-8cd6-1903edd04bf7"
   },
   "outputs": [
    {
     "data": {
      "text/plain": [
       "0.7732996853090413"
      ]
     },
     "execution_count": 290,
     "metadata": {
      "tags": []
     },
     "output_type": "execute_result"
    }
   ],
   "source": [
    "grid_lg.fit(X_train5,y_train)\n",
    "best_lg = grid_lg.best_estimator_\n",
    "best_lg.fit(X_train5,y_train)\n",
    "\n",
    "best_lg.score(X_train5,y_train)"
   ]
  },
  {
   "cell_type": "code",
   "execution_count": 0,
   "metadata": {
    "colab": {},
    "colab_type": "code",
    "id": "xG1cX5JEeOC5",
    "outputId": "09b79e23-f131-4468-a456-8e07b24aef31"
   },
   "outputs": [
    {
     "data": {
      "text/plain": [
       "-0.43984230920949274"
      ]
     },
     "execution_count": 291,
     "metadata": {
      "tags": []
     },
     "output_type": "execute_result"
    }
   ],
   "source": [
    "X_test5 = weather_ndvi_2017[['Avg_PrProb', 'NDVI']] # stepwise from rf 77/68\n",
    "best_lg.score(X_test5,y_test)"
   ]
  },
  {
   "cell_type": "code",
   "execution_count": 0,
   "metadata": {
    "colab": {},
    "colab_type": "code",
    "id": "7e8PDyJMeOC7",
    "outputId": "2af12548-eb44-425a-9c53-4b274cb2df56"
   },
   "outputs": [
    {
     "data": {
      "text/plain": [
       "0.7623966938959048"
      ]
     },
     "execution_count": 304,
     "metadata": {
      "tags": []
     },
     "output_type": "execute_result"
    }
   ],
   "source": [
    "grid_lg.fit(X_train6,y_train)\n",
    "best_ll = grid_lg.best_estimator_\n",
    "best_ln2 = best_lg.fit(X_train6,y_train)\n",
    "\n",
    "best_ln2.score(X_train6,y_train)"
   ]
  },
  {
   "cell_type": "code",
   "execution_count": 0,
   "metadata": {
    "colab": {},
    "colab_type": "code",
    "id": "PaWGm-GoeOC8",
    "outputId": "703641fc-4b4d-4508-918d-6a78000607ae"
   },
   "outputs": [
    {
     "data": {
      "text/plain": [
       "0.5262151383703928"
      ]
     },
     "execution_count": 305,
     "metadata": {
      "tags": []
     },
     "output_type": "execute_result"
    }
   ],
   "source": [
    "X_test6 = weather_ndvi_2017[['Max_Temp','Avg_Sunlight', 'Max_PrProb','NDVI','Yield 2016']] # currently used\n",
    "best_ln2.score(X_test6,y_test)"
   ]
  },
  {
   "cell_type": "code",
   "execution_count": 0,
   "metadata": {
    "colab": {},
    "colab_type": "code",
    "id": "w7ucdbEheOC-",
    "outputId": "6ca1678d-6f42-469b-9d86-745b3e7f1c09"
   },
   "outputs": [
    {
     "data": {
      "text/plain": [
       "0.6757737579449083"
      ]
     },
     "execution_count": 313,
     "metadata": {
      "tags": []
     },
     "output_type": "execute_result"
    }
   ],
   "source": [
    "grid_lg.fit(X_train7,y_train)\n",
    "best_ll = grid_lg.best_estimator_\n",
    "best_ln2 = best_lg.fit(X_train7,y_train)\n",
    "\n",
    "best_ln2.score(X_train7,y_train)"
   ]
  },
  {
   "cell_type": "code",
   "execution_count": 0,
   "metadata": {
    "colab": {},
    "colab_type": "code",
    "id": "XvvpxiQueODC",
    "outputId": "2a0d9a29-f146-43cd-dc5f-3d79c91329c5"
   },
   "outputs": [
    {
     "data": {
      "text/plain": [
       "0.6819252889607481"
      ]
     },
     "execution_count": 314,
     "metadata": {
      "tags": []
     },
     "output_type": "execute_result"
    }
   ],
   "source": [
    "X_test7 = weather_ndvi_2017[['Max_Temp','NDVI','Yield 2016']] # currently used\n",
    "best_ln2.score(X_test7,y_test)"
   ]
  },
  {
   "cell_type": "code",
   "execution_count": 0,
   "metadata": {
    "colab": {},
    "colab_type": "code",
    "id": "RZs8O3g9eODD",
    "outputId": "2cbc8a9d-fdf3-4ba8-e5bd-37dbe62cca9a"
   },
   "outputs": [
    {
     "data": {
      "text/plain": [
       "0.6940013508372288"
      ]
     },
     "execution_count": 386,
     "metadata": {
      "tags": []
     },
     "output_type": "execute_result"
    }
   ],
   "source": [
    "grid_lg.fit(X_train8,y_train)\n",
    "best_lg = grid_lg.best_estimator_\n",
    "best_ln3 = best_lg.fit(X_train8,y_train)\n",
    "\n",
    "best_ln3.score(X_train8,y_train)"
   ]
  },
  {
   "cell_type": "code",
   "execution_count": 0,
   "metadata": {
    "colab": {},
    "colab_type": "code",
    "id": "-PpJnfA7eODX",
    "outputId": "2e281d4c-9abd-41e7-8f34-50d639297fe7"
   },
   "outputs": [
    {
     "data": {
      "text/plain": [
       "0.56121840268114"
      ]
     },
     "execution_count": 388,
     "metadata": {
      "tags": []
     },
     "output_type": "execute_result"
    }
   ],
   "source": [
    "X_test8 = weather_ndvi_2017[['Max_PrProb','NDVI','Yield 2016']] # currently used\n",
    "best_ln3.score(X_test8,y_test)"
   ]
  },
  {
   "cell_type": "markdown",
   "metadata": {
    "colab_type": "text",
    "id": "mSNOPDkUeODa"
   },
   "source": [
    "#### Best LM is X_train6"
   ]
  },
  {
   "cell_type": "code",
   "execution_count": 0,
   "metadata": {
    "colab": {},
    "colab_type": "code",
    "id": "StaleD-2eODb"
   },
   "outputs": [],
   "source": [
    "y_pred_ln2 = best_ln2.predict(X_test6)"
   ]
  },
  {
   "cell_type": "code",
   "execution_count": 0,
   "metadata": {
    "colab": {},
    "colab_type": "code",
    "id": "ZyDgBUl2eODd"
   },
   "outputs": [],
   "source": [
    "y_pred_ln3 = best_ln2.predict(X_test7)"
   ]
  },
  {
   "cell_type": "code",
   "execution_count": 0,
   "metadata": {
    "colab": {},
    "colab_type": "code",
    "id": "-8UEeybaeODe"
   },
   "outputs": [],
   "source": [
    "X_train6['y'] = y_train"
   ]
  },
  {
   "cell_type": "code",
   "execution_count": 0,
   "metadata": {
    "colab": {},
    "colab_type": "code",
    "id": "fld-NqgUeODg",
    "outputId": "ace77309-fd24-40e6-add3-abfb7a4bf1a3"
   },
   "outputs": [
    {
     "data": {
      "text/html": [
       "<div>\n",
       "<style scoped>\n",
       "    .dataframe tbody tr th:only-of-type {\n",
       "        vertical-align: middle;\n",
       "    }\n",
       "\n",
       "    .dataframe tbody tr th {\n",
       "        vertical-align: top;\n",
       "    }\n",
       "\n",
       "    .dataframe thead th {\n",
       "        text-align: right;\n",
       "    }\n",
       "</style>\n",
       "<table border=\"1\" class=\"dataframe\">\n",
       "  <thead>\n",
       "    <tr style=\"text-align: right;\">\n",
       "      <th></th>\n",
       "      <th>Max_Temp</th>\n",
       "      <th>Avg_Sunlight</th>\n",
       "      <th>Max_PrProb</th>\n",
       "      <th>NDVI</th>\n",
       "      <th>Yield 2015</th>\n",
       "      <th>y</th>\n",
       "    </tr>\n",
       "  </thead>\n",
       "  <tbody>\n",
       "    <tr>\n",
       "      <th>Max_Temp</th>\n",
       "      <td>1.000000</td>\n",
       "      <td>0.294406</td>\n",
       "      <td>-0.649275</td>\n",
       "      <td>-0.324540</td>\n",
       "      <td>0.451628</td>\n",
       "      <td>0.399346</td>\n",
       "    </tr>\n",
       "    <tr>\n",
       "      <th>Avg_Sunlight</th>\n",
       "      <td>0.294406</td>\n",
       "      <td>1.000000</td>\n",
       "      <td>-0.203159</td>\n",
       "      <td>0.499204</td>\n",
       "      <td>-0.461169</td>\n",
       "      <td>-0.352440</td>\n",
       "    </tr>\n",
       "    <tr>\n",
       "      <th>Max_PrProb</th>\n",
       "      <td>-0.649275</td>\n",
       "      <td>-0.203159</td>\n",
       "      <td>1.000000</td>\n",
       "      <td>0.593562</td>\n",
       "      <td>-0.588815</td>\n",
       "      <td>-0.706096</td>\n",
       "    </tr>\n",
       "    <tr>\n",
       "      <th>NDVI</th>\n",
       "      <td>-0.324540</td>\n",
       "      <td>0.499204</td>\n",
       "      <td>0.593562</td>\n",
       "      <td>1.000000</td>\n",
       "      <td>-0.899233</td>\n",
       "      <td>-0.797473</td>\n",
       "    </tr>\n",
       "    <tr>\n",
       "      <th>Yield 2015</th>\n",
       "      <td>0.451628</td>\n",
       "      <td>-0.461169</td>\n",
       "      <td>-0.588815</td>\n",
       "      <td>-0.899233</td>\n",
       "      <td>1.000000</td>\n",
       "      <td>0.795102</td>\n",
       "    </tr>\n",
       "    <tr>\n",
       "      <th>y</th>\n",
       "      <td>0.399346</td>\n",
       "      <td>-0.352440</td>\n",
       "      <td>-0.706096</td>\n",
       "      <td>-0.797473</td>\n",
       "      <td>0.795102</td>\n",
       "      <td>1.000000</td>\n",
       "    </tr>\n",
       "  </tbody>\n",
       "</table>\n",
       "</div>"
      ],
      "text/plain": [
       "              Max_Temp  Avg_Sunlight  Max_PrProb      NDVI  Yield 2015  \\\n",
       "Max_Temp      1.000000      0.294406   -0.649275 -0.324540    0.451628   \n",
       "Avg_Sunlight  0.294406      1.000000   -0.203159  0.499204   -0.461169   \n",
       "Max_PrProb   -0.649275     -0.203159    1.000000  0.593562   -0.588815   \n",
       "NDVI         -0.324540      0.499204    0.593562  1.000000   -0.899233   \n",
       "Yield 2015    0.451628     -0.461169   -0.588815 -0.899233    1.000000   \n",
       "y             0.399346     -0.352440   -0.706096 -0.797473    0.795102   \n",
       "\n",
       "                     y  \n",
       "Max_Temp      0.399346  \n",
       "Avg_Sunlight -0.352440  \n",
       "Max_PrProb   -0.706096  \n",
       "NDVI         -0.797473  \n",
       "Yield 2015    0.795102  \n",
       "y             1.000000  "
      ]
     },
     "execution_count": 202,
     "metadata": {
      "tags": []
     },
     "output_type": "execute_result"
    }
   ],
   "source": [
    "X_train6.corr()"
   ]
  },
  {
   "cell_type": "markdown",
   "metadata": {
    "colab_type": "text",
    "id": "qO12PVNzeODh"
   },
   "source": [
    "### Best Linear Regressions Model Metrics"
   ]
  },
  {
   "cell_type": "markdown",
   "metadata": {
    "colab_type": "text",
    "id": "ejwQchIxeODi"
   },
   "source": [
    "#### X_train1"
   ]
  },
  {
   "cell_type": "code",
   "execution_count": 0,
   "metadata": {
    "colab": {},
    "colab_type": "code",
    "id": "D1jGRczPeODi",
    "outputId": "736babb9-5610-4d77-cd49-fc597e68d322"
   },
   "outputs": [
    {
     "data": {
      "text/html": [
       "<div>\n",
       "<style scoped>\n",
       "    .dataframe tbody tr th:only-of-type {\n",
       "        vertical-align: middle;\n",
       "    }\n",
       "\n",
       "    .dataframe tbody tr th {\n",
       "        vertical-align: top;\n",
       "    }\n",
       "\n",
       "    .dataframe thead th {\n",
       "        text-align: right;\n",
       "    }\n",
       "</style>\n",
       "<table border=\"1\" class=\"dataframe\">\n",
       "  <thead>\n",
       "    <tr style=\"text-align: right;\">\n",
       "      <th></th>\n",
       "      <th>VIF Factor</th>\n",
       "      <th>features</th>\n",
       "    </tr>\n",
       "  </thead>\n",
       "  <tbody>\n",
       "    <tr>\n",
       "      <th>0</th>\n",
       "      <td>119.0</td>\n",
       "      <td>Avg_DewPoint</td>\n",
       "    </tr>\n",
       "    <tr>\n",
       "      <th>1</th>\n",
       "      <td>119.0</td>\n",
       "      <td>Yield 2015</td>\n",
       "    </tr>\n",
       "  </tbody>\n",
       "</table>\n",
       "</div>"
      ],
      "text/plain": [
       "   VIF Factor      features\n",
       "0       119.0  Avg_DewPoint\n",
       "1       119.0    Yield 2015"
      ]
     },
     "execution_count": 307,
     "metadata": {
      "tags": []
     },
     "output_type": "execute_result"
    }
   ],
   "source": [
    "vif = pd.DataFrame()\n",
    "vif[\"VIF Factor\"] = [variance_inflation_factor(X_train1.values, i) for i in range(X_train1.shape[1])]\n",
    "vif[\"features\"] = X_train1.columns\n",
    "vif.round(1)"
   ]
  },
  {
   "cell_type": "code",
   "execution_count": 0,
   "metadata": {
    "colab": {},
    "colab_type": "code",
    "id": "PU9fGAOGeODj",
    "outputId": "e233f733-ffb6-4199-b3c7-cf6c2d0f15ec"
   },
   "outputs": [
    {
     "name": "stdout",
     "output_type": "stream",
     "text": [
      "R2: 0.5597610100130521\n",
      "RMSE: 3.025927603073668\n",
      "SMAPE: [2.43341284]\n",
      "%bias: [2.33505078]\n",
      "Mean Accuracy: [-0.17882511]\n"
     ]
    }
   ],
   "source": [
    "print(\"R2: {}\".format(r2_score(y_test, y_pred_ln)))\n",
    "print(\"RMSE: {}\".format(np.sqrt(mean_squared_error(y_test, y_pred_ln))))\n",
    "print(\"SMAPE: {}\".format(100 * (sum(abs(y_test.values-y_pred_ln)/(abs(y_test.values)+abs(y_pred_ln))))/(len(y_test.values))))\n",
    "print(\"%bias: {}\".format(100 * (sum(y_pred_ln - y_test.values) / sum(y_test.values))))\n",
    "print(\"Mean Accuracy: {}\".format(sum(1 - abs(y_pred_ln/y_test.values))))"
   ]
  },
  {
   "cell_type": "markdown",
   "metadata": {
    "colab_type": "text",
    "id": "VRmMLSvVeODl"
   },
   "source": [
    "#### X_train6 "
   ]
  },
  {
   "cell_type": "code",
   "execution_count": 0,
   "metadata": {
    "colab": {},
    "colab_type": "code",
    "id": "66mlz76ueODl",
    "outputId": "405b7d3b-51f5-40e9-ca12-044be3bf253f"
   },
   "outputs": [
    {
     "data": {
      "text/html": [
       "<div>\n",
       "<style scoped>\n",
       "    .dataframe tbody tr th:only-of-type {\n",
       "        vertical-align: middle;\n",
       "    }\n",
       "\n",
       "    .dataframe tbody tr th {\n",
       "        vertical-align: top;\n",
       "    }\n",
       "\n",
       "    .dataframe thead th {\n",
       "        text-align: right;\n",
       "    }\n",
       "</style>\n",
       "<table border=\"1\" class=\"dataframe\">\n",
       "  <thead>\n",
       "    <tr style=\"text-align: right;\">\n",
       "      <th></th>\n",
       "      <th>VIF Factor</th>\n",
       "      <th>features</th>\n",
       "    </tr>\n",
       "  </thead>\n",
       "  <tbody>\n",
       "    <tr>\n",
       "      <th>0</th>\n",
       "      <td>1592.2</td>\n",
       "      <td>Max_Temp</td>\n",
       "    </tr>\n",
       "    <tr>\n",
       "      <th>1</th>\n",
       "      <td>2611.2</td>\n",
       "      <td>Avg_Sunlight</td>\n",
       "    </tr>\n",
       "    <tr>\n",
       "      <th>2</th>\n",
       "      <td>39.7</td>\n",
       "      <td>Max_PrProb</td>\n",
       "    </tr>\n",
       "    <tr>\n",
       "      <th>3</th>\n",
       "      <td>975.9</td>\n",
       "      <td>NDVI</td>\n",
       "    </tr>\n",
       "    <tr>\n",
       "      <th>4</th>\n",
       "      <td>726.9</td>\n",
       "      <td>Yield 2015</td>\n",
       "    </tr>\n",
       "  </tbody>\n",
       "</table>\n",
       "</div>"
      ],
      "text/plain": [
       "   VIF Factor      features\n",
       "0      1592.2      Max_Temp\n",
       "1      2611.2  Avg_Sunlight\n",
       "2        39.7    Max_PrProb\n",
       "3       975.9          NDVI\n",
       "4       726.9    Yield 2015"
      ]
     },
     "execution_count": 357,
     "metadata": {
      "tags": []
     },
     "output_type": "execute_result"
    }
   ],
   "source": [
    "vif = pd.DataFrame()\n",
    "vif[\"VIF Factor\"] = [variance_inflation_factor(X_train6.values, i) for i in range(X_train6.shape[1])]\n",
    "vif[\"features\"] = X_train6.columns\n",
    "vif.round(1)"
   ]
  },
  {
   "cell_type": "code",
   "execution_count": 0,
   "metadata": {
    "colab": {},
    "colab_type": "code",
    "id": "RdncBaV8eODn",
    "outputId": "ac3cef2e-21e2-4c19-d693-deabaa62405a"
   },
   "outputs": [
    {
     "name": "stdout",
     "output_type": "stream",
     "text": [
      "R2: 0.5262151383703928\n",
      "RMSE: 3.139097979526131\n",
      "SMAPE: [2.83242221]\n",
      "%bias: [-0.63368856]\n",
      "Mean Accuracy: [0.00475971]\n"
     ]
    }
   ],
   "source": [
    "print(\"R2: {}\".format(r2_score(y_test, y_pred_ln2)))\n",
    "print(\"RMSE: {}\".format(np.sqrt(mean_squared_error(y_test, y_pred_ln2))))\n",
    "print(\"SMAPE: {}\".format(100 * (sum(abs(y_test.values-y_pred_ln2)/(abs(y_test.values)+abs(y_pred_ln2))))/(len(y_test.values))))\n",
    "print(\"%bias: {}\".format(100 * (sum(y_pred_ln2 - y_test.values) / sum(y_test.values))))\n",
    "print(\"Mean Accuracy: {}\".format(sum(1 - abs(y_pred_ln2/y_test.values))))"
   ]
  },
  {
   "cell_type": "markdown",
   "metadata": {
    "colab_type": "text",
    "id": "7s5WHKCZeODu"
   },
   "source": [
    "#### X_train7"
   ]
  },
  {
   "cell_type": "code",
   "execution_count": 0,
   "metadata": {
    "colab": {},
    "colab_type": "code",
    "id": "RK3d4zsFeODv",
    "outputId": "d1753f0b-4b1b-4a50-f152-b2f1bf46325e"
   },
   "outputs": [
    {
     "data": {
      "text/html": [
       "<div>\n",
       "<style scoped>\n",
       "    .dataframe tbody tr th:only-of-type {\n",
       "        vertical-align: middle;\n",
       "    }\n",
       "\n",
       "    .dataframe tbody tr th {\n",
       "        vertical-align: top;\n",
       "    }\n",
       "\n",
       "    .dataframe thead th {\n",
       "        text-align: right;\n",
       "    }\n",
       "</style>\n",
       "<table border=\"1\" class=\"dataframe\">\n",
       "  <thead>\n",
       "    <tr style=\"text-align: right;\">\n",
       "      <th></th>\n",
       "      <th>VIF Factor</th>\n",
       "      <th>features</th>\n",
       "    </tr>\n",
       "  </thead>\n",
       "  <tbody>\n",
       "    <tr>\n",
       "      <th>0</th>\n",
       "      <td>1005.6</td>\n",
       "      <td>Max_Temp</td>\n",
       "    </tr>\n",
       "    <tr>\n",
       "      <th>1</th>\n",
       "      <td>154.3</td>\n",
       "      <td>NDVI</td>\n",
       "    </tr>\n",
       "    <tr>\n",
       "      <th>2</th>\n",
       "      <td>497.8</td>\n",
       "      <td>Yield 2015</td>\n",
       "    </tr>\n",
       "  </tbody>\n",
       "</table>\n",
       "</div>"
      ],
      "text/plain": [
       "   VIF Factor    features\n",
       "0      1005.6    Max_Temp\n",
       "1       154.3        NDVI\n",
       "2       497.8  Yield 2015"
      ]
     },
     "execution_count": 311,
     "metadata": {
      "tags": []
     },
     "output_type": "execute_result"
    }
   ],
   "source": [
    "vif = pd.DataFrame()\n",
    "vif[\"VIF Factor\"] = [variance_inflation_factor(X_train7.values, i) for i in range(X_train7.shape[1])]\n",
    "vif[\"features\"] = X_train7.columns\n",
    "vif.round(1)"
   ]
  },
  {
   "cell_type": "code",
   "execution_count": 0,
   "metadata": {
    "colab": {},
    "colab_type": "code",
    "id": "DYOrvAcGeODw",
    "outputId": "4328e085-1f44-43eb-e340-5d8ec547423d"
   },
   "outputs": [
    {
     "name": "stdout",
     "output_type": "stream",
     "text": [
      "R2: 0.6819252889607481\n",
      "RMSE: 2.572046713777328\n",
      "SMAPE: [2.09824041]\n",
      "%bias: [-1.41355314]\n",
      "Mean Accuracy: [0.09797196]\n"
     ]
    }
   ],
   "source": [
    "print(\"R2: {}\".format(r2_score(y_test, y_pred_ln3)))\n",
    "print(\"RMSE: {}\".format(np.sqrt(mean_squared_error(y_test, y_pred_ln3))))\n",
    "print(\"SMAPE: {}\".format(100 * (sum(abs(y_test.values-y_pred_ln3)/(abs(y_test.values)+abs(y_pred_ln3))))/(len(y_test.values))))\n",
    "print(\"%bias: {}\".format(100 * (sum(y_pred_ln3 - y_test.values) / sum(y_test.values))))\n",
    "print(\"Mean Accuracy: {}\".format(sum(1 - abs(y_pred_ln3/y_test.values))))"
   ]
  },
  {
   "cell_type": "markdown",
   "metadata": {
    "colab_type": "text",
    "id": "b5OXD3NkeODx"
   },
   "source": [
    "### Test with Random Forest on 2017"
   ]
  },
  {
   "cell_type": "code",
   "execution_count": 0,
   "metadata": {
    "colab": {},
    "colab_type": "code",
    "id": "AJ9zSYCGeODy"
   },
   "outputs": [],
   "source": [
    "rf = RandomForestRegressor(random_state = 55)\n",
    "param_rf = {'max_depth': [None,10,20],\n",
    " 'max_features': ['auto',1,2,3,4],\n",
    " 'min_samples_leaf': [1,2,3],\n",
    " 'min_samples_split': [2,3],\n",
    " 'n_estimators': [10,30,50,70,90]}\n",
    "grid_rf = GridSearchCV(rf, param_rf, scoring='neg_mean_squared_error', cv=8, n_jobs=-1)"
   ]
  },
  {
   "cell_type": "code",
   "execution_count": 0,
   "metadata": {
    "colab": {},
    "colab_type": "code",
    "id": "-RssUbzEeOD0",
    "outputId": "bd20c394-d93d-47b6-a942-f1ddc5e7cb21"
   },
   "outputs": [
    {
     "name": "stderr",
     "output_type": "stream",
     "text": [
      "/anaconda/lib/python3.6/site-packages/sklearn/ensemble/forest.py:248: FutureWarning:\n",
      "\n",
      "The default value of n_estimators will change from 10 in version 0.20 to 100 in 0.22.\n",
      "\n",
      "/anaconda/lib/python3.6/site-packages/ipykernel_launcher.py:4: DataConversionWarning:\n",
      "\n",
      "A column-vector y was passed when a 1d array was expected. Please change the shape of y to (n_samples,), for example using ravel().\n",
      "\n"
     ]
    },
    {
     "data": {
      "text/plain": [
       "0.8934759864799977"
      ]
     },
     "execution_count": 318,
     "metadata": {
      "tags": []
     },
     "output_type": "execute_result"
    }
   ],
   "source": [
    "#grid_rf.fit(X_train1,y_train)\n",
    "#best_rf = grid_rf.best_estimator_\n",
    "#best_rf.fit(X_train1,y_train)\n",
    "rf.fit(X_train1, y_train)\n",
    "rf.score(X_train1, y_train)"
   ]
  },
  {
   "cell_type": "code",
   "execution_count": 0,
   "metadata": {
    "colab": {},
    "colab_type": "code",
    "id": "To2Xs4R-eOD2",
    "outputId": "a534d4ea-5376-4527-a364-88c07daa985f"
   },
   "outputs": [
    {
     "data": {
      "text/plain": [
       "0.5349261920891618"
      ]
     },
     "execution_count": 319,
     "metadata": {
      "tags": []
     },
     "output_type": "execute_result"
    }
   ],
   "source": [
    "rf.score(X_test1,y_test)"
   ]
  },
  {
   "cell_type": "code",
   "execution_count": 0,
   "metadata": {
    "colab": {},
    "colab_type": "code",
    "id": "a4wYrv3QeOD3",
    "outputId": "887991eb-6833-4ae6-f2fb-f68f3c1a5dba"
   },
   "outputs": [
    {
     "name": "stderr",
     "output_type": "stream",
     "text": [
      "/anaconda/lib/python3.6/site-packages/ipykernel_launcher.py:4: DataConversionWarning:\n",
      "\n",
      "A column-vector y was passed when a 1d array was expected. Please change the shape of y to (n_samples,), for example using ravel().\n",
      "\n"
     ]
    },
    {
     "data": {
      "text/plain": [
       "0.8999231678649031"
      ]
     },
     "execution_count": 320,
     "metadata": {
      "tags": []
     },
     "output_type": "execute_result"
    }
   ],
   "source": [
    "#grid_rf.fit(X_train2,y_train)\n",
    "#best_rf = grid_rf.best_estimator_\n",
    "#best_rf.fit(X_train2,y_train)\n",
    "rf.fit(X_train2, y_train)\n",
    "rf.score(X_train2,y_train)"
   ]
  },
  {
   "cell_type": "code",
   "execution_count": 0,
   "metadata": {
    "colab": {},
    "colab_type": "code",
    "id": "B-F48JDoeOD5",
    "outputId": "4d602f2f-4192-49dd-c938-fe918469e275"
   },
   "outputs": [
    {
     "data": {
      "text/plain": [
       "0.3430022684312245"
      ]
     },
     "execution_count": 321,
     "metadata": {
      "tags": []
     },
     "output_type": "execute_result"
    }
   ],
   "source": [
    "rf.score(X_test2,y_test)"
   ]
  },
  {
   "cell_type": "code",
   "execution_count": 0,
   "metadata": {
    "colab": {},
    "colab_type": "code",
    "id": "vh5phZ0-eOEA",
    "outputId": "20b69cb2-0e85-4afb-9bef-45da0df8d1fa"
   },
   "outputs": [
    {
     "name": "stderr",
     "output_type": "stream",
     "text": [
      "/anaconda/lib/python3.6/site-packages/ipykernel_launcher.py:3: DataConversionWarning:\n",
      "\n",
      "A column-vector y was passed when a 1d array was expected. Please change the shape of y to (n_samples,), for example using ravel().\n",
      "\n"
     ]
    },
    {
     "data": {
      "text/plain": [
       "0.9006101222525119"
      ]
     },
     "execution_count": 322,
     "metadata": {
      "tags": []
     },
     "output_type": "execute_result"
    }
   ],
   "source": [
    "#grid_rf.fit(X_train3,y_train)\n",
    "#best_rf = grid_rf.best_estimator_\n",
    "rf.fit(X_train3,y_train)\n",
    "rf.score(X_train3,y_train)"
   ]
  },
  {
   "cell_type": "code",
   "execution_count": 0,
   "metadata": {
    "colab": {},
    "colab_type": "code",
    "id": "xQ0Jaa2yeOEC",
    "outputId": "1416162b-5e7c-4417-8e04-a7d25f1279ae"
   },
   "outputs": [
    {
     "data": {
      "text/plain": [
       "0.24776997353791255"
      ]
     },
     "execution_count": 323,
     "metadata": {
      "tags": []
     },
     "output_type": "execute_result"
    }
   ],
   "source": [
    "rf.score(X_test3,y_test)"
   ]
  },
  {
   "cell_type": "code",
   "execution_count": 0,
   "metadata": {
    "colab": {},
    "colab_type": "code",
    "id": "QL3oHACKeOEJ",
    "outputId": "6ac6c1af-f874-4b45-deb3-6324916032d8"
   },
   "outputs": [
    {
     "name": "stderr",
     "output_type": "stream",
     "text": [
      "/anaconda/lib/python3.6/site-packages/ipykernel_launcher.py:3: DataConversionWarning:\n",
      "\n",
      "A column-vector y was passed when a 1d array was expected. Please change the shape of y to (n_samples,), for example using ravel().\n",
      "\n"
     ]
    },
    {
     "data": {
      "text/plain": [
       "0.8813439785025176"
      ]
     },
     "execution_count": 324,
     "metadata": {
      "tags": []
     },
     "output_type": "execute_result"
    }
   ],
   "source": [
    "#grid_rf.fit(X_train4,y_train)\n",
    "#best_rf = grid_rf.best_estimator_\n",
    "rf.fit(X_train4,y_train)\n",
    "rf.score(X_train4,y_train)"
   ]
  },
  {
   "cell_type": "code",
   "execution_count": 0,
   "metadata": {
    "colab": {},
    "colab_type": "code",
    "id": "hg0o2SVaeOEL",
    "outputId": "02ff15f0-2fd1-4422-8b31-db8fe0e078a4"
   },
   "outputs": [
    {
     "data": {
      "text/plain": [
       "0.45248115037467623"
      ]
     },
     "execution_count": 325,
     "metadata": {
      "tags": []
     },
     "output_type": "execute_result"
    }
   ],
   "source": [
    "rf.score(X_test4,y_test)"
   ]
  },
  {
   "cell_type": "code",
   "execution_count": 0,
   "metadata": {
    "colab": {},
    "colab_type": "code",
    "id": "j2dOcsEBeOER",
    "outputId": "65e00598-6ee1-4617-ffa5-b8f9add88593"
   },
   "outputs": [
    {
     "name": "stderr",
     "output_type": "stream",
     "text": [
      "/anaconda/lib/python3.6/site-packages/ipykernel_launcher.py:3: DataConversionWarning:\n",
      "\n",
      "A column-vector y was passed when a 1d array was expected. Please change the shape of y to (n_samples,), for example using ravel().\n",
      "\n"
     ]
    },
    {
     "data": {
      "text/plain": [
       "0.9090569984046867"
      ]
     },
     "execution_count": 326,
     "metadata": {
      "tags": []
     },
     "output_type": "execute_result"
    }
   ],
   "source": [
    "#grid_rf.fit(X_train4,y_train)\n",
    "#best_rf = grid_rf.best_estimator_\n",
    "rf.fit(X_train5,y_train)\n",
    "rf.score(X_train5,y_train)"
   ]
  },
  {
   "cell_type": "code",
   "execution_count": 0,
   "metadata": {
    "colab": {},
    "colab_type": "code",
    "id": "J2pbIqT7eOET",
    "outputId": "cb5a06cf-7d29-440c-e762-e3bbd1b3a368"
   },
   "outputs": [
    {
     "data": {
      "text/plain": [
       "0.4641761045625309"
      ]
     },
     "execution_count": 327,
     "metadata": {
      "tags": []
     },
     "output_type": "execute_result"
    }
   ],
   "source": [
    "rf.score(X_test5,y_test)"
   ]
  },
  {
   "cell_type": "code",
   "execution_count": 0,
   "metadata": {
    "colab": {},
    "colab_type": "code",
    "id": "Pdczuh3feOEU",
    "outputId": "f0ae86a8-a602-4a5e-c57d-487c8d400391"
   },
   "outputs": [
    {
     "name": "stderr",
     "output_type": "stream",
     "text": [
      "/anaconda/lib/python3.6/site-packages/ipykernel_launcher.py:3: DataConversionWarning:\n",
      "\n",
      "A column-vector y was passed when a 1d array was expected. Please change the shape of y to (n_samples,), for example using ravel().\n",
      "\n"
     ]
    },
    {
     "data": {
      "text/plain": [
       "0.8827838890325694"
      ]
     },
     "execution_count": 413,
     "metadata": {
      "tags": []
     },
     "output_type": "execute_result"
    }
   ],
   "source": [
    "#grid_rf.fit(X_train4,y_train)\n",
    "#best_rf = grid_rf.best_estimator_\n",
    "rf_best1 = rf.fit(X_train6,y_train)\n",
    "rf_best1.score(X_train6,y_train)"
   ]
  },
  {
   "cell_type": "code",
   "execution_count": 0,
   "metadata": {
    "colab": {},
    "colab_type": "code",
    "id": "V1x0TuLieOEW",
    "outputId": "9139cb43-e883-4950-cce9-55d4abd2677b"
   },
   "outputs": [
    {
     "data": {
      "text/plain": [
       "0.7329374437749339"
      ]
     },
     "execution_count": 414,
     "metadata": {
      "tags": []
     },
     "output_type": "execute_result"
    }
   ],
   "source": [
    "rf_best1.score(X_test6,y_test)"
   ]
  },
  {
   "cell_type": "code",
   "execution_count": 0,
   "metadata": {
    "colab": {},
    "colab_type": "code",
    "id": "lH3c3ZOAeOEZ"
   },
   "outputs": [],
   "source": [
    "y_pred_rf1 = rf_best1.predict(X_test6)"
   ]
  },
  {
   "cell_type": "code",
   "execution_count": 0,
   "metadata": {
    "colab": {},
    "colab_type": "code",
    "id": "QvLh5Q_leOEa",
    "outputId": "ddf759a8-7078-4253-cbdf-1626d777dad6"
   },
   "outputs": [
    {
     "name": "stderr",
     "output_type": "stream",
     "text": [
      "/anaconda/lib/python3.6/site-packages/ipykernel_launcher.py:3: DataConversionWarning:\n",
      "\n",
      "A column-vector y was passed when a 1d array was expected. Please change the shape of y to (n_samples,), for example using ravel().\n",
      "\n"
     ]
    },
    {
     "data": {
      "text/plain": [
       "0.8859934264283008"
      ]
     },
     "execution_count": 420,
     "metadata": {
      "tags": []
     },
     "output_type": "execute_result"
    }
   ],
   "source": [
    "#grid_rf.fit(X_train4,y_train)\n",
    "#best_rf = grid_rf.best_estimator_\n",
    "rf_best2 = rf.fit(X_train7,y_train)\n",
    "rf_best2.score(X_train7,y_train)"
   ]
  },
  {
   "cell_type": "code",
   "execution_count": 0,
   "metadata": {
    "colab": {},
    "colab_type": "code",
    "id": "puk9DtI-eOEc",
    "outputId": "5a60ce82-d4e2-4767-82dd-d3f5b2234635"
   },
   "outputs": [
    {
     "data": {
      "text/plain": [
       "0.6921790088374424"
      ]
     },
     "execution_count": 421,
     "metadata": {
      "tags": []
     },
     "output_type": "execute_result"
    }
   ],
   "source": [
    "rf_best2.score(X_test7,y_test)"
   ]
  },
  {
   "cell_type": "code",
   "execution_count": 0,
   "metadata": {
    "colab": {},
    "colab_type": "code",
    "id": "P55omB5qeOEf"
   },
   "outputs": [],
   "source": [
    "y_pred_rf2 = rf_best2.predict(X_test7)"
   ]
  },
  {
   "cell_type": "code",
   "execution_count": 0,
   "metadata": {
    "colab": {},
    "colab_type": "code",
    "id": "F5sxt4QreOEg",
    "outputId": "cfbc5744-847d-485c-bf04-fac8b15fb9c2"
   },
   "outputs": [
    {
     "name": "stderr",
     "output_type": "stream",
     "text": [
      "/anaconda/lib/python3.6/site-packages/ipykernel_launcher.py:3: DataConversionWarning:\n",
      "\n",
      "A column-vector y was passed when a 1d array was expected. Please change the shape of y to (n_samples,), for example using ravel().\n",
      "\n"
     ]
    },
    {
     "data": {
      "text/plain": [
       "0.8740769050416506"
      ]
     },
     "execution_count": 427,
     "metadata": {
      "tags": []
     },
     "output_type": "execute_result"
    }
   ],
   "source": [
    "#grid_rf.fit(X_train4,y_train)\n",
    "#best_rf = grid_rf.best_estimator_\n",
    "rf_best3 = rf.fit(X_train8,y_train)\n",
    "rf_best3.score(X_train8,y_train)"
   ]
  },
  {
   "cell_type": "code",
   "execution_count": 0,
   "metadata": {
    "colab": {},
    "colab_type": "code",
    "id": "8NOAGO12eOEi",
    "outputId": "902c7994-88c4-4681-ca4d-d6b177dd9d96"
   },
   "outputs": [
    {
     "data": {
      "text/plain": [
       "0.8001764328855209"
      ]
     },
     "execution_count": 428,
     "metadata": {
      "tags": []
     },
     "output_type": "execute_result"
    }
   ],
   "source": [
    "rf_best3.score(X_test8,y_test)"
   ]
  },
  {
   "cell_type": "code",
   "execution_count": 0,
   "metadata": {
    "colab": {},
    "colab_type": "code",
    "id": "WqXLFENHeOEk"
   },
   "outputs": [],
   "source": [
    "y_pred_rf3 = rf_best3.predict(X_test8)"
   ]
  },
  {
   "cell_type": "code",
   "execution_count": 0,
   "metadata": {
    "colab": {},
    "colab_type": "code",
    "id": "32Ffl78XeOEq",
    "outputId": "92e545de-590c-4a78-a935-961c9d1049c3"
   },
   "outputs": [
    {
     "data": {
      "text/plain": [
       "[<matplotlib.lines.Line2D at 0x1c1927c278>]"
      ]
     },
     "execution_count": 405,
     "metadata": {
      "tags": []
     },
     "output_type": "execute_result"
    },
    {
     "data": {
      "image/png": "[encoded data removed]",
      "text/plain": [
       "<Figure size 432x288 with 1 Axes>"
      ]
     },
     "metadata": {
      "tags": []
     },
     "output_type": "display_data"
    }
   ],
   "source": [
    "plt.plot(y_pred_rf1, 'g')\n",
    "plt.plot(y_pred_rf2, 'b')\n",
    "plt.plot(y_pred_rf3, 'r')"
   ]
  },
  {
   "cell_type": "code",
   "execution_count": 0,
   "metadata": {
    "colab": {},
    "colab_type": "code",
    "id": "Olm0GXb-eOEs"
   },
   "outputs": [],
   "source": [
    "y_pred_rf1 = np.array(y_pred_rf1)\n",
    "y_pred_rf1 = y_pred_rf1.astype('float64')\n",
    "y_pred_rf1 = pd.DataFrame(y_pred_rf1)\n",
    "y_pred_rf1= np.array(y_pred_rf1)"
   ]
  },
  {
   "cell_type": "code",
   "execution_count": 0,
   "metadata": {
    "colab": {},
    "colab_type": "code",
    "id": "h__tfwRreOEv"
   },
   "outputs": [],
   "source": [
    "y_pred_rf2 = np.array(y_pred_rf2)\n",
    "y_pred_rf2 = y_pred_rf2.astype('float64')\n",
    "y_pred_rf2 = pd.DataFrame(y_pred_rf2)\n",
    "y_pred_rf2= np.array(y_pred_rf2)"
   ]
  },
  {
   "cell_type": "code",
   "execution_count": 0,
   "metadata": {
    "colab": {},
    "colab_type": "code",
    "id": "z_AruBdKeOEy"
   },
   "outputs": [],
   "source": [
    "y_pred_rf3 = np.array(y_pred_rf3)\n",
    "y_pred_rf3 = y_pred_rf3.astype('float64')\n",
    "y_pred_rf3 = pd.DataFrame(y_pred_rf3)\n",
    "y_pred_rf3= np.array(y_pred_rf3)"
   ]
  },
  {
   "cell_type": "markdown",
   "metadata": {
    "colab_type": "text",
    "id": "Zy-tBFSYeOEz"
   },
   "source": [
    "### Best 2 Random Forest Models Metrics"
   ]
  },
  {
   "cell_type": "markdown",
   "metadata": {
    "colab_type": "text",
    "id": "s0UvIu6deOE0"
   },
   "source": [
    "#### X_train6"
   ]
  },
  {
   "cell_type": "code",
   "execution_count": 0,
   "metadata": {
    "colab": {},
    "colab_type": "code",
    "id": "iZlX7Nt7eOE0",
    "outputId": "dd62e5c1-a8bd-44b8-9711-dbbb6dbd74b1"
   },
   "outputs": [
    {
     "name": "stdout",
     "output_type": "stream",
     "text": [
      "R2: 0.7329374437749339\n",
      "RMSE: 2.3567894323785947\n",
      "SMAPE: [2.18646771]\n",
      "%bias: [-0.71922841]\n",
      "Mean Accuracy: [0.01698427]\n"
     ]
    }
   ],
   "source": [
    "print(\"R2: {}\".format(r2_score(y_test, y_pred_rf1)))\n",
    "print(\"RMSE: {}\".format(np.sqrt(mean_squared_error(y_test, y_pred_rf1))))\n",
    "print(\"SMAPE: {}\".format(100 * (sum(abs(y_test.values-y_pred_rf1)/(abs(y_test.values)+abs(y_pred_rf1))))/(len(y_test.values))))\n",
    "print(\"%bias: {}\".format(100 * (sum(y_pred_rf1 - y_test.values) / sum(y_test.values))))\n",
    "print(\"Mean Accuracy: {}\".format(sum(1 - abs(y_pred_rf1/y_test.values))))"
   ]
  },
  {
   "cell_type": "code",
   "execution_count": 0,
   "metadata": {
    "colab": {},
    "colab_type": "code",
    "id": "rUtzQ-mMeOE3",
    "outputId": "bf3a4561-b718-46df-e453-dd333aa71962"
   },
   "outputs": [
    {
     "data": {
      "text/plain": [
       "array([0.09337567, 0.05453689, 0.33407903, 0.25835183, 0.25965657])"
      ]
     },
     "execution_count": 418,
     "metadata": {
      "tags": []
     },
     "output_type": "execute_result"
    }
   ],
   "source": [
    "rf_best1.feature_importances_"
   ]
  },
  {
   "cell_type": "code",
   "execution_count": 0,
   "metadata": {
    "colab": {},
    "colab_type": "code",
    "id": "yHE3NBNOeOE5",
    "outputId": "18465b7a-81e9-4658-9c9f-d4dc038aa304"
   },
   "outputs": [
    {
     "data": {
      "image/png": "[encoded data removed]",
      "text/plain": [
       "<Figure size 432x288 with 1 Axes>"
      ]
     },
     "metadata": {
      "tags": []
     },
     "output_type": "display_data"
    }
   ],
   "source": [
    "features = X_train6.columns\n",
    "importances = rf_best1.feature_importances_\n",
    "indices = np.argsort(importances)\n",
    "\n",
    "plt.title('Weather-NDVI Feature Importances')\n",
    "plt.barh(range(len(indices)), importances[indices], color='b', align='center')\n",
    "plt.yticks(range(len(indices)), [features[i] for i in indices])\n",
    "plt.xlabel('Relative Importance')\n",
    "plt.show()"
   ]
  },
  {
   "cell_type": "markdown",
   "metadata": {
    "colab_type": "text",
    "id": "l32p1VmWeOE6"
   },
   "source": [
    "#### X_train7"
   ]
  },
  {
   "cell_type": "code",
   "execution_count": 0,
   "metadata": {
    "colab": {},
    "colab_type": "code",
    "id": "N7rLEbWueOE6",
    "outputId": "cae95116-5398-419c-d7cd-7caa0aec7905"
   },
   "outputs": [
    {
     "name": "stdout",
     "output_type": "stream",
     "text": [
      "R2: 0.6921790088374424\n",
      "RMSE: 2.5302497900405005\n",
      "SMAPE: [2.46677925]\n",
      "%bias: [1.8860992]\n",
      "Mean Accuracy: [-0.16245476]\n"
     ]
    }
   ],
   "source": [
    "print(\"R2: {}\".format(r2_score(y_test, y_pred_rf2)))\n",
    "print(\"RMSE: {}\".format(np.sqrt(mean_squared_error(y_test, y_pred_rf2))))\n",
    "print(\"SMAPE: {}\".format(100 * (sum(abs(y_test.values-y_pred_rf2)/(abs(y_test.values)+abs(y_pred_rf2))))/(len(y_test.values))))\n",
    "print(\"%bias: {}\".format(100 * (sum(y_pred_rf2 - y_test.values) / sum(y_test.values))))\n",
    "print(\"Mean Accuracy: {}\".format(sum(1 - abs(y_pred_rf2/y_test.values))))"
   ]
  },
  {
   "cell_type": "code",
   "execution_count": 0,
   "metadata": {
    "colab": {},
    "colab_type": "code",
    "id": "wy6LWwt8eOE7",
    "outputId": "c1ff65b2-f94d-48f8-ba63-f9f8cc5ae116"
   },
   "outputs": [
    {
     "data": {
      "text/plain": [
       "array([0.2238521 , 0.44113565, 0.33501225])"
      ]
     },
     "execution_count": 425,
     "metadata": {
      "tags": []
     },
     "output_type": "execute_result"
    }
   ],
   "source": [
    "rf_best2.feature_importances_"
   ]
  },
  {
   "cell_type": "code",
   "execution_count": 0,
   "metadata": {
    "colab": {},
    "colab_type": "code",
    "id": "MGYZqnGVeOFB",
    "outputId": "fbdcbdee-eb57-4123-fa21-ad77906e8dd8"
   },
   "outputs": [
    {
     "data": {
      "image/png": "[encoded data removed]",
      "text/plain": [
       "<Figure size 432x288 with 1 Axes>"
      ]
     },
     "metadata": {
      "tags": []
     },
     "output_type": "display_data"
    }
   ],
   "source": [
    "features = X_train7.columns\n",
    "importances = rf_best2.feature_importances_\n",
    "indices = np.argsort(importances)\n",
    "\n",
    "plt.title('Weather-NDVI Feature Importances')\n",
    "plt.barh(range(len(indices)), importances[indices], color='b', align='center')\n",
    "plt.yticks(range(len(indices)), [features[i] for i in indices])\n",
    "plt.xlabel('Relative Importance')\n",
    "plt.show()"
   ]
  },
  {
   "cell_type": "markdown",
   "metadata": {
    "colab_type": "text",
    "id": "GBqhLk_FeOFC"
   },
   "source": [
    "#### X_train8"
   ]
  },
  {
   "cell_type": "code",
   "execution_count": 0,
   "metadata": {
    "colab": {},
    "colab_type": "code",
    "id": "jGBD5kmXeOFC",
    "outputId": "ea4d0a1b-7a0f-41d2-a2b8-f6dfaf779006"
   },
   "outputs": [
    {
     "name": "stdout",
     "output_type": "stream",
     "text": [
      "R2: 0.8001764328855209\n",
      "RMSE: 2.0386263582548527\n",
      "SMAPE: [1.80757616]\n",
      "%bias: [-1.87630129]\n",
      "Mean Accuracy: [0.10657299]\n"
     ]
    }
   ],
   "source": [
    "print(\"R2: {}\".format(r2_score(y_test, y_pred_rf3)))\n",
    "print(\"RMSE: {}\".format(np.sqrt(mean_squared_error(y_test, y_pred_rf3))))\n",
    "print(\"SMAPE: {}\".format(100 * (sum(abs(y_test.values-y_pred_rf3)/(abs(y_test.values)+abs(y_pred_rf3))))/(len(y_test.values))))\n",
    "print(\"%bias: {}\".format(100 * (sum(y_pred_rf3 - y_test.values) / sum(y_test.values))))\n",
    "print(\"Mean Accuracy: {}\".format(sum(1 - abs(y_pred_rf3/y_test.values))))"
   ]
  },
  {
   "cell_type": "code",
   "execution_count": 0,
   "metadata": {
    "colab": {},
    "colab_type": "code",
    "id": "kqf4j4jveOFG",
    "outputId": "6caaae60-4300-41a4-b1fd-af7bd72551f9"
   },
   "outputs": [
    {
     "data": {
      "text/plain": [
       "array([0.33146903, 0.3275929 , 0.34093807])"
      ]
     },
     "execution_count": 433,
     "metadata": {
      "tags": []
     },
     "output_type": "execute_result"
    }
   ],
   "source": [
    "rf_best3.feature_importances_"
   ]
  },
  {
   "cell_type": "code",
   "execution_count": 0,
   "metadata": {
    "colab": {},
    "colab_type": "code",
    "id": "qu8FyP6meOFI",
    "outputId": "861f556f-d8ac-430f-e5d6-122d8c37d195"
   },
   "outputs": [
    {
     "data": {
      "image/png": "[encoded data removed]",
      "text/plain": [
       "<Figure size 432x288 with 1 Axes>"
      ]
     },
     "metadata": {
      "tags": []
     },
     "output_type": "display_data"
    }
   ],
   "source": [
    "features = X_train8.columns\n",
    "importances = rf_best3.feature_importances_\n",
    "indices = np.argsort(importances)\n",
    "\n",
    "plt.title('Weather-NDVI Feature Importances')\n",
    "plt.barh(range(len(indices)), importances[indices], color='b', align='center')\n",
    "plt.yticks(range(len(indices)), [features[i] for i in indices])\n",
    "plt.xlabel('Relative Importance')\n",
    "plt.show()"
   ]
  },
  {
   "cell_type": "markdown",
   "metadata": {
    "colab_type": "text",
    "id": "afeVtypMeOFK"
   },
   "source": [
    "### Compare all models"
   ]
  },
  {
   "cell_type": "markdown",
   "metadata": {
    "colab_type": "text",
    "id": "Sii0BL--eOFK"
   },
   "source": [
    "#### Linear Regression"
   ]
  },
  {
   "cell_type": "code",
   "execution_count": 0,
   "metadata": {
    "colab": {},
    "colab_type": "code",
    "id": "QyWGHIZbeOFK",
    "outputId": "0cb50751-168a-4ecc-d660-c72009067b8f"
   },
   "outputs": [
    {
     "name": "stdout",
     "output_type": "stream",
     "text": [
      "R2: 0.5262151383703928\n",
      "RMSE: 3.139097979526131\n",
      "SMAPE: [2.83242221]\n",
      "%bias: [-0.63368856]\n",
      "Mean Accuracy: [0.00475971]\n"
     ]
    }
   ],
   "source": [
    "print(\"R2: {}\".format(r2_score(y_test, y_pred_ln2)))\n",
    "print(\"RMSE: {}\".format(np.sqrt(mean_squared_error(y_test, y_pred_ln2))))\n",
    "print(\"SMAPE: {}\".format(100 * (sum(abs(y_test.values-y_pred_ln2)/(abs(y_test.values)+abs(y_pred_ln2))))/(len(y_test.values))))\n",
    "print(\"%bias: {}\".format(100 * (sum(y_pred_ln2 - y_test.values) / sum(y_test.values))))\n",
    "print(\"Mean Accuracy: {}\".format(sum(1 - abs(y_pred_ln2/y_test.values))))"
   ]
  },
  {
   "cell_type": "markdown",
   "metadata": {
    "colab_type": "text",
    "id": "lYfyGo6aeOFO"
   },
   "source": [
    "#### Random Forest X_train6"
   ]
  },
  {
   "cell_type": "code",
   "execution_count": 0,
   "metadata": {
    "colab": {},
    "colab_type": "code",
    "id": "6nT5yau6eOFO",
    "outputId": "94752a64-81c0-4218-fdb5-386115e6aed2"
   },
   "outputs": [
    {
     "name": "stdout",
     "output_type": "stream",
     "text": [
      "R2: 0.7329374437749339\n",
      "RMSE: 2.3567894323785947\n",
      "SMAPE: [2.18646771]\n",
      "%bias: [-0.71922841]\n",
      "Mean Accuracy: [0.01698427]\n"
     ]
    }
   ],
   "source": [
    "print(\"R2: {}\".format(r2_score(y_test, y_pred_rf1)))\n",
    "print(\"RMSE: {}\".format(np.sqrt(mean_squared_error(y_test, y_pred_rf1))))\n",
    "print(\"SMAPE: {}\".format(100 * (sum(abs(y_test.values-y_pred_rf1)/(abs(y_test.values)+abs(y_pred_rf1))))/(len(y_test.values))))\n",
    "print(\"%bias: {}\".format(100 * (sum(y_pred_rf1 - y_test.values) / sum(y_test.values))))\n",
    "print(\"Mean Accuracy: {}\".format(sum(1 - abs(y_pred_rf1/y_test.values))))"
   ]
  },
  {
   "cell_type": "markdown",
   "metadata": {
    "colab_type": "text",
    "id": "dB7ZH4yTeOFP"
   },
   "source": [
    "#### Random Forest X_train7"
   ]
  },
  {
   "cell_type": "code",
   "execution_count": 0,
   "metadata": {
    "colab": {},
    "colab_type": "code",
    "id": "i9xydzRNeOFQ",
    "outputId": "b935fda7-15d8-4c2b-8f56-833bf269bf2f"
   },
   "outputs": [
    {
     "name": "stdout",
     "output_type": "stream",
     "text": [
      "R2: 0.6921790088374424\n",
      "RMSE: 2.5302497900405005\n",
      "SMAPE: [2.46677925]\n",
      "%bias: [1.8860992]\n",
      "Mean Accuracy: [-0.16245476]\n"
     ]
    }
   ],
   "source": [
    "print(\"R2: {}\".format(r2_score(y_test, y_pred_rf2)))\n",
    "print(\"RMSE: {}\".format(np.sqrt(mean_squared_error(y_test, y_pred_rf2))))\n",
    "print(\"SMAPE: {}\".format(100 * (sum(abs(y_test.values-y_pred_rf2)/(abs(y_test.values)+abs(y_pred_rf2))))/(len(y_test.values))))\n",
    "print(\"%bias: {}\".format(100 * (sum(y_pred_rf2 - y_test.values) / sum(y_test.values))))\n",
    "print(\"Mean Accuracy: {}\".format(sum(1 - abs(y_pred_rf2/y_test.values))))"
   ]
  },
  {
   "cell_type": "markdown",
   "metadata": {
    "colab_type": "text",
    "id": "81RMxiGleOFR"
   },
   "source": [
    "#### Random Forest X_train8"
   ]
  },
  {
   "cell_type": "code",
   "execution_count": 0,
   "metadata": {
    "colab": {},
    "colab_type": "code",
    "id": "_pHaOJPyeOFS",
    "outputId": "b54d08cd-e1cb-494e-a133-f9a1561e813b"
   },
   "outputs": [
    {
     "name": "stdout",
     "output_type": "stream",
     "text": [
      "R2: 0.8001764328855209\n",
      "RMSE: 2.0386263582548527\n",
      "SMAPE: [1.80757616]\n",
      "%bias: [-1.87630129]\n",
      "Mean Accuracy: [0.10657299]\n"
     ]
    }
   ],
   "source": [
    "print(\"R2: {}\".format(r2_score(y_test, y_pred_rf3)))\n",
    "print(\"RMSE: {}\".format(np.sqrt(mean_squared_error(y_test, y_pred_rf3))))\n",
    "print(\"SMAPE: {}\".format(100 * (sum(abs(y_test.values-y_pred_rf3)/(abs(y_test.values)+abs(y_pred_rf3))))/(len(y_test.values))))\n",
    "print(\"%bias: {}\".format(100 * (sum(y_pred_rf3 - y_test.values) / sum(y_test.values))))\n",
    "print(\"Mean Accuracy: {}\".format(sum(1 - abs(y_pred_rf3/y_test.values))))"
   ]
  },
  {
   "cell_type": "markdown",
   "metadata": {
    "colab_type": "text",
    "id": "hPCX24IVeOFU"
   },
   "source": [
    "### Ridge Regression"
   ]
  },
  {
   "cell_type": "code",
   "execution_count": 0,
   "metadata": {
    "colab": {},
    "colab_type": "code",
    "id": "ALj2XM-HeOFU"
   },
   "outputs": [],
   "source": [
    "regr = Ridge(random_state=55)"
   ]
  },
  {
   "cell_type": "code",
   "execution_count": 0,
   "metadata": {
    "colab": {},
    "colab_type": "code",
    "id": "ZHDTxfBXeOFV",
    "outputId": "3fd6e34b-4fa3-42c5-ba4d-6eb718654159"
   },
   "outputs": [
    {
     "data": {
      "text/plain": [
       "0.6537455086487042"
      ]
     },
     "execution_count": 154,
     "metadata": {
      "tags": []
     },
     "output_type": "execute_result"
    }
   ],
   "source": [
    "regr.fit(X_train1, y_train)\n",
    "regr.score(X_train1, y_train)"
   ]
  },
  {
   "cell_type": "code",
   "execution_count": 0,
   "metadata": {
    "colab": {},
    "colab_type": "code",
    "id": "j-6o4bgDeOFW",
    "outputId": "de50d056-78b9-44ec-cfc2-bdd2f05bbb59"
   },
   "outputs": [
    {
     "data": {
      "text/plain": [
       "0.574539007621127"
      ]
     },
     "execution_count": 155,
     "metadata": {
      "tags": []
     },
     "output_type": "execute_result"
    }
   ],
   "source": [
    "regr.score(X_test1, y_test)"
   ]
  },
  {
   "cell_type": "code",
   "execution_count": 0,
   "metadata": {
    "colab": {},
    "colab_type": "code",
    "id": "ckBHKosPeOFX",
    "outputId": "7c4a8da8-87f6-430e-91c8-71eb89bfb9e8"
   },
   "outputs": [
    {
     "data": {
      "text/plain": [
       "0.6393461933968405"
      ]
     },
     "execution_count": 156,
     "metadata": {
      "tags": []
     },
     "output_type": "execute_result"
    }
   ],
   "source": [
    "regr.fit(X_train2, y_train)\n",
    "regr.score(X_train2, y_train)"
   ]
  },
  {
   "cell_type": "code",
   "execution_count": 0,
   "metadata": {
    "colab": {},
    "colab_type": "code",
    "id": "nZ6AFhs_eOFZ",
    "outputId": "2be026e7-7f79-4707-f3a6-f501e89eb235"
   },
   "outputs": [
    {
     "data": {
      "text/plain": [
       "0.5942462276685266"
      ]
     },
     "execution_count": 157,
     "metadata": {
      "tags": []
     },
     "output_type": "execute_result"
    }
   ],
   "source": [
    "regr.score(X_test2, y_test)"
   ]
  },
  {
   "cell_type": "code",
   "execution_count": 0,
   "metadata": {
    "colab": {},
    "colab_type": "code",
    "id": "Vs_-oeW6eOFb",
    "outputId": "3eb3ead5-60fb-49cc-a168-d8139d9e2013"
   },
   "outputs": [
    {
     "data": {
      "text/plain": [
       "0.09387846938420141"
      ]
     },
     "execution_count": 158,
     "metadata": {
      "tags": []
     },
     "output_type": "execute_result"
    }
   ],
   "source": [
    "regr.fit(X_train3, y_train)\n",
    "regr.score(X_train3, y_train)"
   ]
  },
  {
   "cell_type": "code",
   "execution_count": 0,
   "metadata": {
    "colab": {},
    "colab_type": "code",
    "id": "k9WzcfkBeOFc",
    "outputId": "564824ef-2d3e-43ab-a6c1-7941241776a5"
   },
   "outputs": [
    {
     "data": {
      "text/plain": [
       "-0.34254297870118844"
      ]
     },
     "execution_count": 159,
     "metadata": {
      "tags": []
     },
     "output_type": "execute_result"
    }
   ],
   "source": [
    "regr.score(X_test3, y_test)"
   ]
  },
  {
   "cell_type": "code",
   "execution_count": 0,
   "metadata": {
    "colab": {},
    "colab_type": "code",
    "id": "aEzpHHK2eOFd",
    "outputId": "fcf3cf62-9a37-4405-e657-793c92360e90"
   },
   "outputs": [
    {
     "data": {
      "text/plain": [
       "0.6354771201831161"
      ]
     },
     "execution_count": 160,
     "metadata": {
      "tags": []
     },
     "output_type": "execute_result"
    }
   ],
   "source": [
    "regr.fit(X_train4, y_train)\n",
    "regr.score(X_train4, y_train)"
   ]
  },
  {
   "cell_type": "code",
   "execution_count": 0,
   "metadata": {
    "colab": {},
    "colab_type": "code",
    "id": "45jIRkU3eOFf",
    "outputId": "31471bb7-57d7-4f4a-8a59-75860917a17e"
   },
   "outputs": [
    {
     "data": {
      "text/plain": [
       "0.5566811247031208"
      ]
     },
     "execution_count": 161,
     "metadata": {
      "tags": []
     },
     "output_type": "execute_result"
    }
   ],
   "source": [
    "regr.score(X_test4, y_test)"
   ]
  },
  {
   "cell_type": "code",
   "execution_count": 0,
   "metadata": {
    "colab": {},
    "colab_type": "code",
    "id": "Hx7qHRsleOFg",
    "outputId": "fee21989-677e-494f-b44e-d7fc54705c41"
   },
   "outputs": [
    {
     "data": {
      "text/plain": [
       "0.022397732288367833"
      ]
     },
     "execution_count": 162,
     "metadata": {
      "tags": []
     },
     "output_type": "execute_result"
    }
   ],
   "source": [
    "regr.fit(X_train5, y_train)\n",
    "regr.score(X_train5, y_train)"
   ]
  },
  {
   "cell_type": "code",
   "execution_count": 0,
   "metadata": {
    "colab": {},
    "colab_type": "code",
    "id": "tgJ2QWs8eOFi",
    "outputId": "c6c58e9c-f54e-468c-9344-ed344366ef13"
   },
   "outputs": [
    {
     "data": {
      "text/plain": [
       "-0.01724993115852058"
      ]
     },
     "execution_count": 163,
     "metadata": {
      "tags": []
     },
     "output_type": "execute_result"
    }
   ],
   "source": [
    "regr.score(X_test5, y_test)"
   ]
  },
  {
   "cell_type": "code",
   "execution_count": 0,
   "metadata": {
    "colab": {},
    "colab_type": "code",
    "id": "EKAnDoH5eOFj",
    "outputId": "2933827f-0db2-471b-cd00-edcc37e06fe9"
   },
   "outputs": [
    {
     "data": {
      "text/plain": [
       "0.6549589176085535"
      ]
     },
     "execution_count": 164,
     "metadata": {
      "tags": []
     },
     "output_type": "execute_result"
    }
   ],
   "source": [
    "regr.fit(X_train6, y_train)\n",
    "regr.score(X_train6, y_train)"
   ]
  },
  {
   "cell_type": "code",
   "execution_count": 0,
   "metadata": {
    "colab": {},
    "colab_type": "code",
    "id": "afNtiVADeOFo",
    "outputId": "a82e849d-eb8e-41f1-efce-418994b2ee8e"
   },
   "outputs": [
    {
     "data": {
      "text/plain": [
       "0.4904882439703233"
      ]
     },
     "execution_count": 165,
     "metadata": {
      "tags": []
     },
     "output_type": "execute_result"
    }
   ],
   "source": [
    "regr.score(X_test6, y_test)"
   ]
  },
  {
   "cell_type": "markdown",
   "metadata": {
    "colab_type": "text",
    "id": "Yjd-WhpkeOFq"
   },
   "source": [
    "#### 2018 Prediction on best model (Random Forest on X_train8)"
   ]
  },
  {
   "cell_type": "code",
   "execution_count": null,
   "metadata": {
    "colab": {},
    "colab_type": "code",
    "id": "Kzsf3oDreOFs",
    "outputId": "f51932dc-5804-4f64-eb98-5ca9000d1bd1"
   },
   "outputs": [],
   "source": [
    "weather_ndvi_2018 = weather_ndvi_2018.drop(['County'], axis = 1)"
   ]
  },
  {
   "cell_type": "code",
   "execution_count": 0,
   "metadata": {
    "colab": {},
    "colab_type": "code",
    "id": "CIHFUgZheOFt"
   },
   "outputs": [],
   "source": [
    "X_2018 = weather_ndvi_2018[['Max_PrProb','NDVI','Yield 2017']] # currently used"
   ]
  },
  {
   "cell_type": "markdown",
   "metadata": {
    "colab_type": "text",
    "id": "bAfaJgHieOF4"
   },
   "source": [
    "#### Linear Regression Model 2"
   ]
  },
  {
   "cell_type": "code",
   "execution_count": 0,
   "metadata": {
    "colab": {},
    "colab_type": "code",
    "id": "9Zi2yfqieOF4"
   },
   "outputs": [],
   "source": [
    "y_pred_2018 = rf_best3.predict(X_2018)\n",
    "y_pred_2018 = pd.DataFrame(y_pred_2018)"
   ]
  },
  {
   "cell_type": "code",
   "execution_count": 0,
   "metadata": {
    "colab": {},
    "colab_type": "code",
    "id": "wRxb87HfeOF6"
   },
   "outputs": [],
   "source": [
    "counties= ['Yolo','Fresno','Kern','Merced','Kings','San Joaquin','Solano','Stanislaus']"
   ]
  },
  {
   "cell_type": "code",
   "execution_count": 0,
   "metadata": {
    "colab": {},
    "colab_type": "code",
    "id": "pAlkkA4oeOF7",
    "outputId": "44d8deed-8edb-4ce5-93cc-bca9280f9618"
   },
   "outputs": [
    {
     "data": {
      "text/plain": [
       "['Yolo',\n",
       " 'Fresno',\n",
       " 'Kern',\n",
       " 'Merced',\n",
       " 'Kings',\n",
       " 'San Joaquin',\n",
       " 'Solano',\n",
       " 'Stanislaus']"
      ]
     },
     "execution_count": 462,
     "metadata": {
      "tags": []
     },
     "output_type": "execute_result"
    }
   ],
   "source": [
    "counties"
   ]
  },
  {
   "cell_type": "code",
   "execution_count": 0,
   "metadata": {
    "colab": {},
    "colab_type": "code",
    "id": "1Ua3UOECeOF8",
    "outputId": "84f5966b-1ce3-4120-84b3-0b1ece3f9031"
   },
   "outputs": [
    {
     "data": {
      "text/html": [
       "<div>\n",
       "<style scoped>\n",
       "    .dataframe tbody tr th:only-of-type {\n",
       "        vertical-align: middle;\n",
       "    }\n",
       "\n",
       "    .dataframe tbody tr th {\n",
       "        vertical-align: top;\n",
       "    }\n",
       "\n",
       "    .dataframe thead th {\n",
       "        text-align: right;\n",
       "    }\n",
       "</style>\n",
       "<table border=\"1\" class=\"dataframe\">\n",
       "  <thead>\n",
       "    <tr style=\"text-align: right;\">\n",
       "      <th></th>\n",
       "      <th>0</th>\n",
       "    </tr>\n",
       "  </thead>\n",
       "  <tbody>\n",
       "    <tr>\n",
       "      <th>0</th>\n",
       "      <td>44.801</td>\n",
       "    </tr>\n",
       "    <tr>\n",
       "      <th>1</th>\n",
       "      <td>48.119</td>\n",
       "    </tr>\n",
       "    <tr>\n",
       "      <th>2</th>\n",
       "      <td>47.648</td>\n",
       "    </tr>\n",
       "    <tr>\n",
       "      <th>3</th>\n",
       "      <td>47.776</td>\n",
       "    </tr>\n",
       "    <tr>\n",
       "      <th>4</th>\n",
       "      <td>50.659</td>\n",
       "    </tr>\n",
       "    <tr>\n",
       "      <th>5</th>\n",
       "      <td>44.801</td>\n",
       "    </tr>\n",
       "    <tr>\n",
       "      <th>6</th>\n",
       "      <td>44.138</td>\n",
       "    </tr>\n",
       "    <tr>\n",
       "      <th>7</th>\n",
       "      <td>44.801</td>\n",
       "    </tr>\n",
       "  </tbody>\n",
       "</table>\n",
       "</div>"
      ],
      "text/plain": [
       "        0\n",
       "0  44.801\n",
       "1  48.119\n",
       "2  47.648\n",
       "3  47.776\n",
       "4  50.659\n",
       "5  44.801\n",
       "6  44.138\n",
       "7  44.801"
      ]
     },
     "execution_count": 463,
     "metadata": {
      "tags": []
     },
     "output_type": "execute_result"
    }
   ],
   "source": [
    "y_pred_2018"
   ]
  },
  {
   "cell_type": "code",
   "execution_count": 0,
   "metadata": {
    "colab": {},
    "colab_type": "code",
    "id": "WIrNAxfMeOF9"
   },
   "outputs": [],
   "source": [
    "# df = pd.DataFrame({‘Value’:bc_Value[0], ‘Quantity_2016’:bc_Quantity_2016[0]})\n",
    "#yield_2018 = pd.DataFrame({'Yield_2018':y_pred_2018,'County':counties})\n",
    "yield_2018 = pd.DataFrame(columns={'Yield_2018','County'})\n",
    "\n",
    "yield_2018[['Yield_2018']] = y_pred_2018\n",
    "yield_2018[['County']]= counties"
   ]
  },
  {
   "cell_type": "code",
   "execution_count": 0,
   "metadata": {
    "colab": {},
    "colab_type": "code",
    "id": "mziVJxM8eOGA",
    "outputId": "7d134010-53fd-448c-9ea2-17675c753dbc"
   },
   "outputs": [
    {
     "data": {
      "text/html": [
       "<div>\n",
       "<style scoped>\n",
       "    .dataframe tbody tr th:only-of-type {\n",
       "        vertical-align: middle;\n",
       "    }\n",
       "\n",
       "    .dataframe tbody tr th {\n",
       "        vertical-align: top;\n",
       "    }\n",
       "\n",
       "    .dataframe thead th {\n",
       "        text-align: right;\n",
       "    }\n",
       "</style>\n",
       "<table border=\"1\" class=\"dataframe\">\n",
       "  <thead>\n",
       "    <tr style=\"text-align: right;\">\n",
       "      <th></th>\n",
       "      <th>Yield_2018</th>\n",
       "      <th>County</th>\n",
       "    </tr>\n",
       "  </thead>\n",
       "  <tbody>\n",
       "    <tr>\n",
       "      <th>0</th>\n",
       "      <td>44.305</td>\n",
       "      <td>Yolo</td>\n",
       "    </tr>\n",
       "    <tr>\n",
       "      <th>1</th>\n",
       "      <td>46.837</td>\n",
       "      <td>Fresno</td>\n",
       "    </tr>\n",
       "    <tr>\n",
       "      <th>2</th>\n",
       "      <td>46.837</td>\n",
       "      <td>Kern</td>\n",
       "    </tr>\n",
       "    <tr>\n",
       "      <th>3</th>\n",
       "      <td>47.779</td>\n",
       "      <td>Merced</td>\n",
       "    </tr>\n",
       "    <tr>\n",
       "      <th>4</th>\n",
       "      <td>49.704</td>\n",
       "      <td>Kings</td>\n",
       "    </tr>\n",
       "    <tr>\n",
       "      <th>5</th>\n",
       "      <td>44.185</td>\n",
       "      <td>San Joaquin</td>\n",
       "    </tr>\n",
       "    <tr>\n",
       "      <th>6</th>\n",
       "      <td>44.185</td>\n",
       "      <td>Solano</td>\n",
       "    </tr>\n",
       "    <tr>\n",
       "      <th>7</th>\n",
       "      <td>44.932</td>\n",
       "      <td>Stanislaus</td>\n",
       "    </tr>\n",
       "  </tbody>\n",
       "</table>\n",
       "</div>"
      ],
      "text/plain": [
       "   Yield_2018       County\n",
       "0      44.305         Yolo\n",
       "1      46.837       Fresno\n",
       "2      46.837         Kern\n",
       "3      47.779       Merced\n",
       "4      49.704        Kings\n",
       "5      44.185  San Joaquin\n",
       "6      44.185       Solano\n",
       "7      44.932   Stanislaus"
      ]
     },
     "execution_count": 176,
     "metadata": {
      "tags": []
     },
     "output_type": "execute_result"
    }
   ],
   "source": [
    "yield_2018"
   ]
  },
  {
   "cell_type": "code",
   "execution_count": 0,
   "metadata": {
    "colab": {},
    "colab_type": "code",
    "id": "Kun0GWhheOGF"
   },
   "outputs": [],
   "source": [
    "yield_2018.to_csv('predicted_yield_2018.csv')"
   ]
  }
 ],
 "metadata": {
  "colab": {
   "name": "weather_ndvi_modeling.ipynb",
   "provenance": [],
   "version": "0.3.2"
  },
  "kernelspec": {
   "display_name": "Python 3",
   "language": "python",
   "name": "python3"
  },
  "language_info": {
   "codemirror_mode": {
    "name": "ipython",
    "version": 3
   },
   "file_extension": ".py",
   "mimetype": "text/x-python",
   "name": "python",
   "nbconvert_exporter": "python",
   "pygments_lexer": "ipython3",
   "version": "3.7.3"
  }
 },
 "nbformat": 4,
 "nbformat_minor": 1
}
